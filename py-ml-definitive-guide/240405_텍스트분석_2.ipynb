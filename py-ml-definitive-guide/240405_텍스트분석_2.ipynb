{
  "nbformat": 4,
  "nbformat_minor": 0,
  "metadata": {
    "colab": {
      "provenance": [],
      "mount_file_id": "1VSPR0m6N6w38yqrXlGd9YNb7gmBLCiIo",
      "authorship_tag": "ABX9TyMSWh4K8BKrJlQ6RR1rutFd"
    },
    "kernelspec": {
      "name": "python3",
      "display_name": "Python 3"
    },
    "language_info": {
      "name": "python"
    }
  },
  "cells": [
    {
      "cell_type": "markdown",
      "source": [
        "파이썬 머신러닝 완벽 가이드 ch8. 6, 8 ~ 9 pg. 512 ~ 516, 529 ~ 543\n",
        "\n",
        "---"
      ],
      "metadata": {
        "id": "m6RVlQpxJueS"
      }
    },
    {
      "cell_type": "markdown",
      "source": [
        "## 06 토픽 모델링(Topic Modeling) - 20 뉴스 그룹"
      ],
      "metadata": {
        "id": "5K_WN6wTJ8tC"
      }
    },
    {
      "cell_type": "markdown",
      "source": [
        "`토픽 모델링`\n",
        "- 문서 집합에 숨어있는 주제를 찾아내는 것\n",
        "- `LSA`,`LDA` : 머신러닝 기반의 토픽 모델링에 자주 사용되는 기법\n",
        "\n",
        "토픽 모델링의 LDA와 차원 축소의 LDA는 다르다."
      ],
      "metadata": {
        "id": "X-Y7Io8uKZqw"
      }
    },
    {
      "cell_type": "code",
      "execution_count": 1,
      "metadata": {
        "colab": {
          "base_uri": "https://localhost:8080/"
        },
        "id": "2Z84JDwkJtI5",
        "outputId": "3f55b669-04ec-4f5c-b52d-e1661550e1ef"
      },
      "outputs": [
        {
          "output_type": "stream",
          "name": "stdout",
          "text": [
            "CountVectorizer Shape: (7862, 1000)\n"
          ]
        }
      ],
      "source": [
        "from sklearn.datasets import fetch_20newsgroups\n",
        "from sklearn.feature_extraction.text import CountVectorizer\n",
        "from sklearn.decomposition import LatentDirichletAllocation\n",
        "\n",
        "# 모토사이클, 야구, 그래픽스. 윈도우즈, 중동, 기독교, 전자공학, 의학 8개 주제를 추출\n",
        "cats = ['rec.motorcycles', 'rec.sport.baseball', 'comp.graphics', 'comp.windows.x',\n",
        "        'talk.politics.mideast', 'soc.religion.christian', 'sci.electronics', 'sci.med']\n",
        "\n",
        "# 위에서 cats 변수로 기재된 카테고리만 추출. featch_20newgroups()의 categories에 cats 입력\n",
        "news_df = fetch_20newsgroups(subset='all', remove=('headers', 'footers', 'quotes'),\n",
        "                             categories=cats, random_state=0)\n",
        "\n",
        "# LDA는 Count기반의 벡터화만 적용합니다.\n",
        "count_vect = CountVectorizer(max_df=0.95, max_features = 1000, min_df = 2, stop_words='english',\n",
        "                             ngram_range=(1,2))\n",
        "\n",
        "feat_vect = count_vect.fit_transform(news_df.data)\n",
        "print('CountVectorizer Shape:', feat_vect.shape)"
      ]
    },
    {
      "cell_type": "markdown",
      "source": [
        "- 7862개의 문서가 1000개의 피처로 구성된 행렬 데이터\n",
        "- 이렇게 피처 벡터화된 데이터 세트를 기반으로 LDA 토픽 모델링 수행\n",
        "- n_component : 토픽 개수 조정"
      ],
      "metadata": {
        "id": "3mgBEbviQUpN"
      }
    },
    {
      "cell_type": "code",
      "source": [
        "lda = LatentDirichletAllocation(n_components=8, random_state=0)\n",
        "lda.fit(feat_vect)"
      ],
      "metadata": {
        "colab": {
          "base_uri": "https://localhost:8080/",
          "height": 75
        },
        "id": "9V8BlQhRQGOJ",
        "outputId": "aa0d8498-b461-4146-f7d1-f7c6b52ea7b7"
      },
      "execution_count": 8,
      "outputs": [
        {
          "output_type": "execute_result",
          "data": {
            "text/plain": [
              "LatentDirichletAllocation(n_components=8, random_state=0)"
            ],
            "text/html": [
              "<style>#sk-container-id-2 {color: black;background-color: white;}#sk-container-id-2 pre{padding: 0;}#sk-container-id-2 div.sk-toggleable {background-color: white;}#sk-container-id-2 label.sk-toggleable__label {cursor: pointer;display: block;width: 100%;margin-bottom: 0;padding: 0.3em;box-sizing: border-box;text-align: center;}#sk-container-id-2 label.sk-toggleable__label-arrow:before {content: \"▸\";float: left;margin-right: 0.25em;color: #696969;}#sk-container-id-2 label.sk-toggleable__label-arrow:hover:before {color: black;}#sk-container-id-2 div.sk-estimator:hover label.sk-toggleable__label-arrow:before {color: black;}#sk-container-id-2 div.sk-toggleable__content {max-height: 0;max-width: 0;overflow: hidden;text-align: left;background-color: #f0f8ff;}#sk-container-id-2 div.sk-toggleable__content pre {margin: 0.2em;color: black;border-radius: 0.25em;background-color: #f0f8ff;}#sk-container-id-2 input.sk-toggleable__control:checked~div.sk-toggleable__content {max-height: 200px;max-width: 100%;overflow: auto;}#sk-container-id-2 input.sk-toggleable__control:checked~label.sk-toggleable__label-arrow:before {content: \"▾\";}#sk-container-id-2 div.sk-estimator input.sk-toggleable__control:checked~label.sk-toggleable__label {background-color: #d4ebff;}#sk-container-id-2 div.sk-label input.sk-toggleable__control:checked~label.sk-toggleable__label {background-color: #d4ebff;}#sk-container-id-2 input.sk-hidden--visually {border: 0;clip: rect(1px 1px 1px 1px);clip: rect(1px, 1px, 1px, 1px);height: 1px;margin: -1px;overflow: hidden;padding: 0;position: absolute;width: 1px;}#sk-container-id-2 div.sk-estimator {font-family: monospace;background-color: #f0f8ff;border: 1px dotted black;border-radius: 0.25em;box-sizing: border-box;margin-bottom: 0.5em;}#sk-container-id-2 div.sk-estimator:hover {background-color: #d4ebff;}#sk-container-id-2 div.sk-parallel-item::after {content: \"\";width: 100%;border-bottom: 1px solid gray;flex-grow: 1;}#sk-container-id-2 div.sk-label:hover label.sk-toggleable__label {background-color: #d4ebff;}#sk-container-id-2 div.sk-serial::before {content: \"\";position: absolute;border-left: 1px solid gray;box-sizing: border-box;top: 0;bottom: 0;left: 50%;z-index: 0;}#sk-container-id-2 div.sk-serial {display: flex;flex-direction: column;align-items: center;background-color: white;padding-right: 0.2em;padding-left: 0.2em;position: relative;}#sk-container-id-2 div.sk-item {position: relative;z-index: 1;}#sk-container-id-2 div.sk-parallel {display: flex;align-items: stretch;justify-content: center;background-color: white;position: relative;}#sk-container-id-2 div.sk-item::before, #sk-container-id-2 div.sk-parallel-item::before {content: \"\";position: absolute;border-left: 1px solid gray;box-sizing: border-box;top: 0;bottom: 0;left: 50%;z-index: -1;}#sk-container-id-2 div.sk-parallel-item {display: flex;flex-direction: column;z-index: 1;position: relative;background-color: white;}#sk-container-id-2 div.sk-parallel-item:first-child::after {align-self: flex-end;width: 50%;}#sk-container-id-2 div.sk-parallel-item:last-child::after {align-self: flex-start;width: 50%;}#sk-container-id-2 div.sk-parallel-item:only-child::after {width: 0;}#sk-container-id-2 div.sk-dashed-wrapped {border: 1px dashed gray;margin: 0 0.4em 0.5em 0.4em;box-sizing: border-box;padding-bottom: 0.4em;background-color: white;}#sk-container-id-2 div.sk-label label {font-family: monospace;font-weight: bold;display: inline-block;line-height: 1.2em;}#sk-container-id-2 div.sk-label-container {text-align: center;}#sk-container-id-2 div.sk-container {/* jupyter's `normalize.less` sets `[hidden] { display: none; }` but bootstrap.min.css set `[hidden] { display: none !important; }` so we also need the `!important` here to be able to override the default hidden behavior on the sphinx rendered scikit-learn.org. See: https://github.com/scikit-learn/scikit-learn/issues/21755 */display: inline-block !important;position: relative;}#sk-container-id-2 div.sk-text-repr-fallback {display: none;}</style><div id=\"sk-container-id-2\" class=\"sk-top-container\"><div class=\"sk-text-repr-fallback\"><pre>LatentDirichletAllocation(n_components=8, random_state=0)</pre><b>In a Jupyter environment, please rerun this cell to show the HTML representation or trust the notebook. <br />On GitHub, the HTML representation is unable to render, please try loading this page with nbviewer.org.</b></div><div class=\"sk-container\" hidden><div class=\"sk-item\"><div class=\"sk-estimator sk-toggleable\"><input class=\"sk-toggleable__control sk-hidden--visually\" id=\"sk-estimator-id-2\" type=\"checkbox\" checked><label for=\"sk-estimator-id-2\" class=\"sk-toggleable__label sk-toggleable__label-arrow\">LatentDirichletAllocation</label><div class=\"sk-toggleable__content\"><pre>LatentDirichletAllocation(n_components=8, random_state=0)</pre></div></div></div></div></div>"
            ]
          },
          "metadata": {},
          "execution_count": 8
        }
      ]
    },
    {
      "cell_type": "markdown",
      "source": [
        "- LatentDirichletAllocation.fit(데이터세트) 를 수행하면 LatentDirichletAllocation 객체는 components_ 속성값을 가지게 된다.\n",
        "\n",
        "- components_는 개별 토픽별로 각 word 피처가 얼마나 많이 그 토픽에 할당됐는지에 대한 수치를 가지고 있다.\n",
        "-  높은 값일수록 해당 word 피처는 그 토픽의 중심 word 가 된다."
      ],
      "metadata": {
        "id": "KPa-TCzHQtBl"
      }
    },
    {
      "cell_type": "code",
      "source": [
        "print(lda.components_.shape)\n",
        "lda.components_"
      ],
      "metadata": {
        "colab": {
          "base_uri": "https://localhost:8080/"
        },
        "id": "MDkEhIssQpn6",
        "outputId": "376c7890-5348-4c84-cde3-ed4a1c0d1cec"
      },
      "execution_count": 9,
      "outputs": [
        {
          "output_type": "stream",
          "name": "stdout",
          "text": [
            "(8, 1000)\n"
          ]
        },
        {
          "output_type": "execute_result",
          "data": {
            "text/plain": [
              "array([[3.60992018e+01, 1.35626798e+02, 2.15751867e+01, ...,\n",
              "        3.02911688e+01, 8.66830093e+01, 6.79285199e+01],\n",
              "       [1.25199920e-01, 1.44401815e+01, 1.25045596e-01, ...,\n",
              "        1.81506995e+02, 1.25097844e-01, 9.39593286e+01],\n",
              "       [3.34762663e+02, 1.25176265e-01, 1.46743299e+02, ...,\n",
              "        1.25105772e-01, 3.63689741e+01, 1.25025218e-01],\n",
              "       ...,\n",
              "       [3.60204965e+01, 2.08640688e+01, 4.29606813e+00, ...,\n",
              "        1.45056650e+01, 8.33854413e+00, 1.55690009e+01],\n",
              "       [1.25128711e-01, 1.25247756e-01, 1.25005143e-01, ...,\n",
              "        9.17278769e+01, 1.25177668e-01, 3.74575887e+01],\n",
              "       [5.49258690e+01, 4.47009532e+00, 9.88524814e+00, ...,\n",
              "        4.87048440e+01, 1.25034678e-01, 1.25074632e-01]])"
            ]
          },
          "metadata": {},
          "execution_count": 9
        }
      ]
    },
    {
      "cell_type": "markdown",
      "source": [
        "- components_는 array[8,4000]으로 구성돼있다.\n",
        "- 8개 토픽별로 1000개의 word 피처가 해당 토픽별로 연관도 값을 가지고 있다."
      ],
      "metadata": {
        "id": "5YJkttDJRaW9"
      }
    },
    {
      "cell_type": "code",
      "source": [
        "def display_topics(model, feature_names, no_top_words):\n",
        "  for topic_index, topic in enumerate(model.components_):\n",
        "    print('Topic #', topic_index)\n",
        "\n",
        "    # components_array에서 가장 값이 큰 순으로 정렬했을 때, 그 값의 array 인덱스를 반환.\n",
        "    topic_word_indexed = topic.argsort()[::-1]\n",
        "    top_indexes = topic_word_indexed[:no_top_words]\n",
        "\n",
        "    # top_indexes 대상인 인덱스별로 feature_names에 해당하는 word feature 추출 후 join으로 concat\n",
        "    feature_concat = ' '.join([feature_names[i] for i in top_indexes])\n",
        "    print(feature_concat)\n",
        "\n",
        "# CountVectorizer객체 내의 전체 word의 명칭을 get_features_names()를 통해 추출\n",
        "feature_names = count_vect.get_feature_names_out()\n",
        "\n",
        "# 토픽별 가장 연관도가 높은 word를 15개만 추출\n",
        "display_topics(lda, feature_names, 15)"
      ],
      "metadata": {
        "colab": {
          "base_uri": "https://localhost:8080/"
        },
        "id": "x-XcZRncRW2O",
        "outputId": "9f30858f-648f-49b5-95d6-88e6af005745"
      },
      "execution_count": 10,
      "outputs": [
        {
          "output_type": "stream",
          "name": "stdout",
          "text": [
            "Topic # 0\n",
            "year 10 game medical health team 12 20 disease cancer 1993 games years patients good\n",
            "Topic # 1\n",
            "don just like know people said think time ve didn right going say ll way\n",
            "Topic # 2\n",
            "image file jpeg program gif images output format files color entry 00 use bit 03\n",
            "Topic # 3\n",
            "like know don think use does just good time book read information people used post\n",
            "Topic # 4\n",
            "armenian israel armenians jews turkish people israeli jewish government war dos dos turkey arab armenia 000\n",
            "Topic # 5\n",
            "edu com available graphics ftp data pub motif mail widget software mit information version sun\n",
            "Topic # 6\n",
            "god people jesus church believe christ does christian say think christians bible faith sin life\n",
            "Topic # 7\n",
            "use dos thanks windows using window does display help like problem server need know run\n"
          ]
        }
      ]
    },
    {
      "cell_type": "markdown",
      "source": [
        "- 명확하게 주제가 추출된 것도 있고 아닌 것도 있다."
      ],
      "metadata": {
        "id": "xYg6rNcUWF7s"
      }
    },
    {
      "cell_type": "markdown",
      "source": [
        "## 08 문서 유사도"
      ],
      "metadata": {
        "id": "83YV69SoWI2z"
      }
    },
    {
      "cell_type": "markdown",
      "source": [
        "#### 문서 유사도 측정 방법 - 코사인 유사도"
      ],
      "metadata": {
        "id": "9g4wCrLmXMX-"
      }
    },
    {
      "cell_type": "markdown",
      "source": [
        "`코사인 유사도`\n",
        "- 문서와 문서 간의 유사도 비교할 때 사용\n",
        "- 벡터와 벡터 간의 유사도를 비교할 때 벡터의 크기보다는 벡터의 상호 방향성이 얼마나 유사한지에 기반\n",
        "- 두 벡터 사이의 사잇각을 구해서 얼마나 유사한지 수치로 적용한 것"
      ],
      "metadata": {
        "id": "Stk18kFvXoFI"
      }
    },
    {
      "cell_type": "markdown",
      "source": [
        "![image.png](data:image/png;base64,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)"
      ],
      "metadata": {
        "id": "vG-c5JQ5Y-Cm"
      }
    },
    {
      "cell_type": "markdown",
      "source": [
        "### 두 벡터 사잇각"
      ],
      "metadata": {
        "id": "kmX6zo-0Y4tO"
      }
    },
    {
      "cell_type": "markdown",
      "source": [
        "두 벡터의 사잇각에 따라서 상호 관계는 유사하거나 관련이 없더나 아예 반대 관계가 될 수 있다."
      ],
      "metadata": {
        "id": "LQoMjIldZDMu"
      }
    },
    {
      "cell_type": "markdown",
      "source": [
        "![image.png](data:image/png;base64,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)"
      ],
      "metadata": {
        "id": "7ounTo20ZJST"
      }
    },
    {
      "cell_type": "markdown",
      "source": [
        "두 벡터 A와 B의 코사인 값\n",
        "- 두 벡터 A와 B의 내적 값은 두 벡터의 크기를 곱한 값에 코사인 각도를 곱한 것\n",
        " - ![image.png](data:image/png;base64,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)"
      ],
      "metadata": {
        "id": "k9vtQ5aPZL78"
      }
    },
    {
      "cell_type": "markdown",
      "source": [
        "- 유사도 코사인세타는 다음과같이 두 벡터의 내적을 총 벡터 크기의 합으로 나눈 것\n",
        " - ![image.png](data:image/png;base64,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)"
      ],
      "metadata": {
        "id": "CPYOQQyLZeUB"
      }
    },
    {
      "cell_type": "markdown",
      "source": [
        "코사인 유사도가 문서 유사도 비교에 가장 많이 사용되는 이유\n",
        "- 문서를 피처 벡터화 변환하면 차원이 매우 많은 희소 행렬이 되기 쉽다. 이러한 희소 행렬 기반에서 문서와 문서 벡터간의 크기에 기반한 유사도 지표는 정확도가 떨어진다.\n",
        "- 문서가 매우 긴 경우 단어의 빈도수도 더 많을 것이기 때문에 빈도수에만 기반해서는 공정한 비교를 할 수 없다."
      ],
      "metadata": {
        "id": "uvdVWW7hZngT"
      }
    },
    {
      "cell_type": "code",
      "source": [
        "import numpy as np\n",
        "\n",
        "def cos_similarity(v1, v2):\n",
        "  dot_product = np.dot(v1, v2)\n",
        "  l2_norm = (np.sqrt(sum(np.square(v1))) * np.sqrt(sum(np.square(v2))))\n",
        "  similarity = dot_product / l2_norm\n",
        "\n",
        "  return similarity"
      ],
      "metadata": {
        "id": "MBLNLRakV1LN"
      },
      "execution_count": 11,
      "outputs": []
    },
    {
      "cell_type": "markdown",
      "source": [
        "- cos_similarity 함수 : 두 개의 넘파이 배열에 대한 코사인 유사도를 구한다."
      ],
      "metadata": {
        "id": "OzpFvmOjaNzz"
      }
    },
    {
      "cell_type": "code",
      "source": [
        "from sklearn.feature_extraction.text import TfidfVectorizer\n",
        "\n",
        "doc_list = [\n",
        "    'if you take the blue pill, the story ends',\n",
        "    'if you take the red pill, you stay in Wonderland',\n",
        "    'if you take the red pill, I show you how deep the rabbit hole goes'\n",
        "]\n",
        "\n",
        "tfidf_vect_simple = TfidfVectorizer()\n",
        "feature_vect_simple = tfidf_vect_simple.fit_transform(doc_list)\n",
        "print(feature_vect_simple.shape)"
      ],
      "metadata": {
        "colab": {
          "base_uri": "https://localhost:8080/"
        },
        "id": "Z8k2VR1HZ9y8",
        "outputId": "6a4ba377-a5c9-454c-c6f7-66ce995cefbe"
      },
      "execution_count": 12,
      "outputs": [
        {
          "output_type": "stream",
          "name": "stdout",
          "text": [
            "(3, 18)\n"
          ]
        }
      ]
    },
    {
      "cell_type": "markdown",
      "source": [
        "- 반환된 행렬은 희소 행렬\n",
        "- cos_similarity 함수의 인자인 array로 만들기 위해 밀집 행렬도 변환한 뒤, 다시 각각의 배열로 변환한다."
      ],
      "metadata": {
        "id": "WghwKUx7aJvG"
      }
    },
    {
      "cell_type": "code",
      "source": [
        "# TfidfVectorizer로 transform()한 결과는 희소 행렬이므로 밀집 행렬로 변환.\n",
        "feature_vect_dense = feature_vect_simple.todense()\n",
        "\n",
        "# 첫번째 문장과 두번째 문장의 피처 벡터 추출\n",
        "vect1 = np.array(feature_vect_dense[0]).reshape(-1, )\n",
        "vect2 = np.array(feature_vect_dense[1]).reshape(-1, )\n",
        "\n",
        "# 첫번째 문장과 두번째 문장의 피처 벡터로 두 개 문장의 코사인 유사도 추출\n",
        "similarity_simple = cos_similarity(vect1, vect2)\n",
        "print('문장 1, 문장 2 Cosine 유사도 : {0:3f}'.format(similarity_simple))"
      ],
      "metadata": {
        "colab": {
          "base_uri": "https://localhost:8080/"
        },
        "id": "lp6C9KgoaEb9",
        "outputId": "2ae607f0-a21e-43a9-f1de-6fb7e782d4a8"
      },
      "execution_count": 13,
      "outputs": [
        {
          "output_type": "stream",
          "name": "stdout",
          "text": [
            "문장 1, 문장 2 Cosine 유사도 : 0.402078\n"
          ]
        }
      ]
    },
    {
      "cell_type": "code",
      "source": [
        "vect1 = np.array(feature_vect_dense[0]).reshape(-1, )\n",
        "vect3 = np.array(feature_vect_dense[2]).reshape(-1, )\n",
        "similarity_simple = cos_similarity(vect1, vect3)\n",
        "print('문장 1, 문장 3 Cosine 유사도 : {0:3f}'.format(similarity_simple))\n",
        "\n",
        "vect2 = np.array(feature_vect_dense[1]).reshape(-1, )\n",
        "vect3 = np.array(feature_vect_dense[2]).reshape(-1, )\n",
        "similarity_simple = cos_similarity(vect2, vect3)\n",
        "print('문장 2, 문장 3 Cosine 유사도 : {0:3f}'.format(similarity_simple))"
      ],
      "metadata": {
        "colab": {
          "base_uri": "https://localhost:8080/"
        },
        "id": "KjdnwQxJap8x",
        "outputId": "3189cc3d-3e62-48a5-89a2-8326181ea310"
      },
      "execution_count": 14,
      "outputs": [
        {
          "output_type": "stream",
          "name": "stdout",
          "text": [
            "문장 1, 문장 3 Cosine 유사도 : 0.404250\n",
            "문장 2, 문장 3 Cosine 유사도 : 0.456473\n"
          ]
        }
      ]
    },
    {
      "cell_type": "markdown",
      "source": [
        "sklearn.metrics.pairwise.cosine_similarity API를 이용해 문사 유사도를 측정해보자"
      ],
      "metadata": {
        "id": "E7gYsMVTdTrY"
      }
    },
    {
      "cell_type": "code",
      "source": [
        "from sklearn.metrics.pairwise import cosine_similarity\n",
        "\n",
        "similarity_simple_pair = cosine_similarity(feature_vect_simple[0], feature_vect_simple)\n",
        "print(similarity_simple_pair)"
      ],
      "metadata": {
        "colab": {
          "base_uri": "https://localhost:8080/"
        },
        "id": "3KVWqotOavBe",
        "outputId": "a33a8c16-a3b1-479a-aa49-e03f580184c9"
      },
      "execution_count": 15,
      "outputs": [
        {
          "output_type": "stream",
          "name": "stdout",
          "text": [
            "[[1.         0.40207758 0.40425045]]\n"
          ]
        }
      ]
    },
    {
      "cell_type": "markdown",
      "source": [
        "- 1은 첫 번째 문서 자신에 대한 유사도 측정\n",
        "- 제외하려면 비교 대사에서 [1:] 사용"
      ],
      "metadata": {
        "id": "MmFFGa4Jdjuy"
      }
    },
    {
      "cell_type": "code",
      "source": [
        "from sklearn.metrics.pairwise import cosine_similarity\n",
        "\n",
        "similarity_simple_pair = cosine_similarity(feature_vect_simple[0], feature_vect_simple[1:])\n",
        "print(similarity_simple_pair)"
      ],
      "metadata": {
        "colab": {
          "base_uri": "https://localhost:8080/"
        },
        "id": "dDlLm0iTddP_",
        "outputId": "004b12c7-63c2-437a-d819-0b132c996d86"
      },
      "execution_count": 16,
      "outputs": [
        {
          "output_type": "stream",
          "name": "stdout",
          "text": [
            "[[0.40207758 0.40425045]]\n"
          ]
        }
      ]
    },
    {
      "cell_type": "markdown",
      "source": [
        "cosine_similarity()는 쌍으로 코사인 유사도 값을 제공할 수 있다."
      ],
      "metadata": {
        "id": "fC5z-SwueEpa"
      }
    },
    {
      "cell_type": "code",
      "source": [
        "similarity_simple_pair = cosine_similarity(feature_vect_simple, feature_vect_simple)\n",
        "print(similarity_simple_pair)\n",
        "print('shape:', similarity_simple_pair.shape)"
      ],
      "metadata": {
        "colab": {
          "base_uri": "https://localhost:8080/"
        },
        "id": "GYdzskMUdx2l",
        "outputId": "a61c2af4-e57b-432d-e375-fbf08acf739c"
      },
      "execution_count": 17,
      "outputs": [
        {
          "output_type": "stream",
          "name": "stdout",
          "text": [
            "[[1.         0.40207758 0.40425045]\n",
            " [0.40207758 1.         0.45647296]\n",
            " [0.40425045 0.45647296 1.        ]]\n",
            "shape: (3, 3)\n"
          ]
        }
      ]
    },
    {
      "cell_type": "markdown",
      "source": [
        "- cosine_similarity()의 반환 값은 (3,3)의 ndarray\n",
        "- 1행: 1 & 1,2,3의 유사도\n",
        "- 2행: 2 & 1,2,3의 유사도"
      ],
      "metadata": {
        "id": "gNogJXRUeHpg"
      }
    },
    {
      "cell_type": "markdown",
      "source": [
        "### Opinion Review 데이터 세트를 이용한 문서 유사도 측정"
      ],
      "metadata": {
        "id": "X70dSQateYcV"
      }
    },
    {
      "cell_type": "code",
      "source": [
        "import pandas as pd\n",
        "import glob, os\n",
        "from sklearn.feature_extraction.text import TfidfVectorizer\n",
        "from sklearn.cluster import KMeans\n",
        "nltk.download('punkt')\n",
        "nltk.download('wordnet')\n",
        "\n",
        "path = '/content/drive/MyDrive/ESAA/24-1/자료/OpinosisDataset1.0/topics'\n",
        "all_files = glob.glob(os.path.join(path, \"*.data\"))\n",
        "filename_list = []\n",
        "opinion_text = []\n",
        "\n",
        "for file_ in all_files:\n",
        "    df=pd.read_table(file_,index_col=None, header=0, encoding='latin1')\n",
        "    filename_ = file_.split('/')[-1]\n",
        "    filename = filename_.split('.')[0]\n",
        "    filename_list.append(filename)\n",
        "    opinion_text.append(df.to_string())\n",
        "\n",
        "document_df = pd.DataFrame({'filename':filename_list, 'opinion_text':opinion_text})"
      ],
      "metadata": {
        "colab": {
          "base_uri": "https://localhost:8080/"
        },
        "id": "whrW6Ju4nH9D",
        "outputId": "855e1789-278d-4e5d-c59c-5bb23ac9eec6"
      },
      "execution_count": 40,
      "outputs": [
        {
          "output_type": "stream",
          "name": "stderr",
          "text": [
            "[nltk_data] Downloading package punkt to /root/nltk_data...\n",
            "[nltk_data]   Package punkt is already up-to-date!\n",
            "[nltk_data] Downloading package wordnet to /root/nltk_data...\n",
            "[nltk_data]   Package wordnet is already up-to-date!\n"
          ]
        }
      ]
    },
    {
      "cell_type": "code",
      "source": [
        "from nltk.stem import WordNetLemmatizer\n",
        "import nltk\n",
        "import string\n",
        "\n",
        "remove_punct_dict = dict((ord(punct), None) for punct in string.punctuation)\n",
        "lemmar = WordNetLemmatizer()\n",
        "\n",
        "def LemTokens(tokens):\n",
        "    return [lemmar.lemmatize(token) for token in tokens]\n",
        "\n",
        "def LemNormalize(text):\n",
        "    return LemTokens(nltk.word_tokenize(text.lower().translate(remove_punct_dict)))"
      ],
      "metadata": {
        "id": "GfYPkhOFphUf"
      },
      "execution_count": 42,
      "outputs": []
    },
    {
      "cell_type": "code",
      "source": [
        "from sklearn.feature_extraction.text import TfidfVectorizer\n",
        "\n",
        "tfidf_vect = TfidfVectorizer(tokenizer = LemNormalize, stop_words='english' , ngram_range=(1,2),\n",
        "                             min_df=0.05, max_df=0.85)\n",
        "\n",
        "tfidf_vect.fit(document_df['opinion_text'])\n",
        "feature_vect = tfidf_vect.transform(document_df['opinion_text'])\n",
        "\n",
        "km_cluster = KMeans(n_clusters=3, max_iter=10000, random_state=0)\n",
        "km_cluster.fit(feature_vect)\n",
        "cluster_label = km_cluster.labels_\n",
        "cluster_centers = km_cluster.cluster_centers_\n",
        "document_df['cluster_label'] = cluster_label"
      ],
      "metadata": {
        "colab": {
          "base_uri": "https://localhost:8080/"
        },
        "id": "yO9kOvZmpqvN",
        "outputId": "18ff0274-e0ba-4459-f289-c64ac825f218"
      },
      "execution_count": 43,
      "outputs": [
        {
          "output_type": "stream",
          "name": "stderr",
          "text": [
            "/usr/local/lib/python3.10/dist-packages/sklearn/feature_extraction/text.py:528: UserWarning: The parameter 'token_pattern' will not be used since 'tokenizer' is not None'\n",
            "  warnings.warn(\n",
            "/usr/local/lib/python3.10/dist-packages/sklearn/feature_extraction/text.py:409: UserWarning: Your stop_words may be inconsistent with your preprocessing. Tokenizing the stop words generated tokens ['ha', 'le', 'u', 'wa'] not in stop_words.\n",
            "  warnings.warn(\n",
            "/usr/local/lib/python3.10/dist-packages/sklearn/cluster/_kmeans.py:870: FutureWarning: The default value of `n_init` will change from 10 to 'auto' in 1.4. Set the value of `n_init` explicitly to suppress the warning\n",
            "  warnings.warn(\n"
          ]
        }
      ]
    },
    {
      "cell_type": "markdown",
      "source": [
        "호텔을 주제로 군집화된 문서 이용해 특정 문서와 다른 문서 간의 유사도 알아보기\n",
        "\n",
        "- 문서를 피처 벡터화해 변환하면 문서 내 단어에 출현 빈도와 같은 값을 부여해 각 문서가 단어 피처의 값으로 벡터화\n",
        "- cosine_similarity() 이용해 상호 비교해 유사도 확인"
      ],
      "metadata": {
        "id": "HMVe8AoZqCzr"
      }
    },
    {
      "cell_type": "markdown",
      "source": [
        "호텔을 주제로 군집화된 데이터 먼저 추출\n",
        "\n",
        "-> 이 데이터에 해당하는 TfidVectoerier의 데이터 추출\n",
        "\n",
        "-> 호텔 군집화 데이터를 기반으로 별도의 TF-IDF 벡터화 수행 x, 바로 위에서 TfidVectorizer로 만들어진 데이터에서 그대로 추출"
      ],
      "metadata": {
        "id": "lTVrp4KsrrfA"
      }
    },
    {
      "cell_type": "code",
      "source": [
        "from sklearn.metrics.pairwise import cosine_similarity\n",
        "\n",
        "# cluster_label=1인 데이터는 호텔로 군집화된 데이터임. DATAFRAME에서 해당 인덱스를 추출\n",
        "hotel_indexes = document_df[document_df['cluster_label']==1].index\n",
        "print('호텔로 군집화된 문서들의 dataframe index:',hotel_indexes)\n",
        "\n",
        "# 호텔 군집화된 데이터 중 첫번째 문서를 추출해 파일명 표시.\n",
        "comparison_docname = document_df.iloc[hotel_indexes[0]][\"filename\"]\n",
        "print(\"##### 비교 기준 문서명 \", comparison_docname, ' 와 타문서 유사도 #####')\n",
        "\n",
        "# document_df에서 추출한 index 객체를 feature_vect로 입력해 호텔 군집화된 feature-vect 추출\n",
        "similarity_pair = cosine_similarity(feature_vect[hotel_indexes[0]] , feature_vect[hotel_indexes])\n",
        "print(similarity_pair)"
      ],
      "metadata": {
        "colab": {
          "base_uri": "https://localhost:8080/"
        },
        "id": "bB4JDXd-pq_P",
        "outputId": "561c67c7-4aa0-4a8a-9d8b-06af2f63a7f9"
      },
      "execution_count": 44,
      "outputs": [
        {
          "output_type": "stream",
          "name": "stdout",
          "text": [
            "호텔로 군집화된 문서들의 dataframe index: Index([3, 14, 15, 17, 20, 21, 25, 30, 33, 35, 37, 38, 39, 41, 48, 49], dtype='int64')\n",
            "##### 비교 기준 문서명  bathroom_bestwestern_hotel_sfo  와 타문서 유사도 #####\n",
            "[[1.         0.0430688  0.03638665 0.06189595 0.05221059 0.06193118\n",
            "  0.05846178 0.13989623 0.51442299 0.11742762 0.38038865 0.32619948\n",
            "  0.11282857 0.1386783  0.09518068 0.07049362]]\n"
          ]
        }
      ]
    },
    {
      "cell_type": "code",
      "source": [
        "import seaborn as sns\n",
        "import numpy as np\n",
        "import matplotlib.pyplot as plt\n",
        "%matplotlib inline\n",
        "\n",
        "# 첫 번째 문서와 타 문서 간 유사도가 큰 순으로 정렬한 인덱스를 추출하되 자기 자신은 제외.\n",
        "sorted_index = similarity_pair.argsort()[:, ::-1]\n",
        "sorted_index = sorted_index[:, 1:]\n",
        "\n",
        "# 유사도가 큰 순으로 hotel_indexes를 추출해 재정렬\n",
        "hotel_sorted_indexes = hotel_indexes[sorted_index.reshape(-1)]\n",
        "\n",
        "# 유사도가 큰 순으로 유사도 값을 재정렬하되 자기 자신은 제외\n",
        "hotel_1_sim_value = np.sort(similarity_pair.reshape(-1))[::-1]\n",
        "hotel_1_sim_value = hotel_1_sim_value[1:]\n",
        "\n",
        "# 유사도가 큰 순으로 정렬된 인덱스와 유사도 값을 이용해 파일명과 유사도 값을 막대 그래프로 시각화\n",
        "hotel_1_sim_df = pd.DataFrame()\n",
        "hotel_1_sim_df['filename'] = document_df.iloc[hotel_sorted_indexes]['filename']\n",
        "hotel_1_sim_df['similarity'] = hotel_1_sim_value\n",
        "\n",
        "sns.barplot(x='similarity', y='filename', data=hotel_1_sim_df)\n",
        "plt.title(comparison_docname)"
      ],
      "metadata": {
        "colab": {
          "base_uri": "https://localhost:8080/",
          "height": 490
        },
        "id": "rnr9pEu-sNiS",
        "outputId": "e4514f23-f587-4289-fecd-dbd8e743026d"
      },
      "execution_count": 45,
      "outputs": [
        {
          "output_type": "execute_result",
          "data": {
            "text/plain": [
              "Text(0.5, 1.0, 'bathroom_bestwestern_hotel_sfo')"
            ]
          },
          "metadata": {},
          "execution_count": 45
        },
        {
          "output_type": "display_data",
          "data": {
            "text/plain": [
              "<Figure size 640x480 with 1 Axes>"
            ],
            "image/png": "[encoded data removed]"
          },
          "metadata": {}
        }
      ]
    },
    {
      "cell_type": "markdown",
      "source": [
        "- 첫 번째 문서인 bathroom_bestwestern_hotel_sfo와 가장 비슷한 문서는 room_holiday_inn_lonon 이다."
      ],
      "metadata": {
        "id": "2xG_CiKisZxD"
      }
    },
    {
      "cell_type": "markdown",
      "source": [
        "## 09 한글 텍스트 처리 - 네이버 영화 평점 감성 분석"
      ],
      "metadata": {
        "id": "r-qI_W5nsnqg"
      }
    },
    {
      "cell_type": "markdown",
      "source": [
        "### 한글 NLP 처리의 어려움"
      ],
      "metadata": {
        "id": "Vp8MHFn4s7CT"
      }
    },
    {
      "cell_type": "markdown",
      "source": [
        "\n",
        "일반적으로 한글 언어 처리는 영어 등의 라틴어 처리보다 어렵다\n",
        "\n",
        "주된 원인 - '띄어쓰기'와 '다양한 조사'\n",
        "\n",
        "1. 한글은 띄어쓰기를 잘못하면 의미가 왜곡되어 전달\n",
        "\n",
        "2. 조사는 주어나 목적어를 위해 추가. 워낙 경우의 수가 많다 -> 전처리 시 제거하기가 까다롭다."
      ],
      "metadata": {
        "id": "Ytuf0rwus6Wi"
      }
    },
    {
      "cell_type": "markdown",
      "source": [
        "### KoNLPy 소개"
      ],
      "metadata": {
        "id": "mBTeLtCjv_8g"
      }
    },
    {
      "cell_type": "markdown",
      "source": [
        "`KoNLPy`\n",
        "- 파이썬의 대표적인 한글 형태소 패키지\n",
        "- 기존의 C/C++, Java로 잘 만들어진 한글 형태소 엔진을 파이썬 래퍼(Wrapper) 기반으로 재작성한 패키지\n",
        "- 꼬꼬마(Kkma), 한나눔(Hannanum), Komoran, 은전한닢 프로젝트(Mecab), Twitter와 같이 5개의 형태소 분석 모듈 모두 사용 가능\n",
        "\n",
        "`형태소` : 단어로서 의미를 가지는 최소 단위\n",
        "\n",
        "`형태소 분석` : 말뭉치를 이러한 형태소 어근 단위로 쪼개고 각 형태소에 품사 태깅을 부착하는 작업\n",
        "\n",
        "\n",
        "뛰어난 형태소 분석으로 인정받고 있는 Mecab의 경우 윈도우 환경에서는 구동x."
      ],
      "metadata": {
        "id": "PRYrfJc1x1Yi"
      }
    },
    {
      "cell_type": "code",
      "source": [
        "!pip install --upgrade pip\n",
        "!pip install JPype1-1.4.0-cp310-cp310-win_amd64.whl"
      ],
      "metadata": {
        "colab": {
          "base_uri": "https://localhost:8080/"
        },
        "id": "QzMqU4IjsXAk",
        "outputId": "85f2c27b-3f2c-448b-db8f-c5b9376cbf5b"
      },
      "execution_count": 46,
      "outputs": [
        {
          "output_type": "stream",
          "name": "stdout",
          "text": [
            "Requirement already satisfied: pip in /usr/local/lib/python3.10/dist-packages (23.1.2)\n",
            "Collecting pip\n",
            "  Downloading pip-24.0-py3-none-any.whl (2.1 MB)\n",
            "\u001b[2K     \u001b[90m━━━━━━━━━━━━━━━━━━━━━━━━━━━━━━━━━━━━━━━━\u001b[0m \u001b[32m2.1/2.1 MB\u001b[0m \u001b[31m13.1 MB/s\u001b[0m eta \u001b[36m0:00:00\u001b[0m\n",
            "\u001b[?25hInstalling collected packages: pip\n",
            "  Attempting uninstall: pip\n",
            "    Found existing installation: pip 23.1.2\n",
            "    Uninstalling pip-23.1.2:\n",
            "      Successfully uninstalled pip-23.1.2\n",
            "Successfully installed pip-24.0\n",
            "\u001b[33mWARNING: Requirement 'JPype1-1.4.0-cp310-cp310-win_amd64.whl' looks like a filename, but the file does not exist\u001b[0m\u001b[33m\n",
            "\u001b[0m\u001b[31mERROR: JPype1-1.4.0-cp310-cp310-win_amd64.whl is not a supported wheel on this platform.\u001b[0m\u001b[31m\n",
            "\u001b[0m"
          ]
        }
      ]
    },
    {
      "cell_type": "code",
      "source": [
        "pip install konlpy"
      ],
      "metadata": {
        "colab": {
          "base_uri": "https://localhost:8080/"
        },
        "id": "7S7dlI-izJcQ",
        "outputId": "39de112c-fa50-411b-9229-5bb5821aabdf"
      },
      "execution_count": 47,
      "outputs": [
        {
          "output_type": "stream",
          "name": "stdout",
          "text": [
            "Collecting konlpy\n",
            "  Downloading konlpy-0.6.0-py2.py3-none-any.whl.metadata (1.9 kB)\n",
            "Collecting JPype1>=0.7.0 (from konlpy)\n",
            "  Downloading JPype1-1.5.0-cp310-cp310-manylinux_2_17_x86_64.manylinux2014_x86_64.whl.metadata (4.9 kB)\n",
            "Requirement already satisfied: lxml>=4.1.0 in /usr/local/lib/python3.10/dist-packages (from konlpy) (4.9.4)\n",
            "Requirement already satisfied: numpy>=1.6 in /usr/local/lib/python3.10/dist-packages (from konlpy) (1.25.2)\n",
            "Requirement already satisfied: packaging in /usr/local/lib/python3.10/dist-packages (from JPype1>=0.7.0->konlpy) (24.0)\n",
            "Downloading konlpy-0.6.0-py2.py3-none-any.whl (19.4 MB)\n",
            "\u001b[2K   \u001b[90m━━━━━━━━━━━━━━━━━━━━━━━━━━━━━━━━━━━━━━━━\u001b[0m \u001b[32m19.4/19.4 MB\u001b[0m \u001b[31m55.6 MB/s\u001b[0m eta \u001b[36m0:00:00\u001b[0m\n",
            "\u001b[?25hDownloading JPype1-1.5.0-cp310-cp310-manylinux_2_17_x86_64.manylinux2014_x86_64.whl (488 kB)\n",
            "\u001b[2K   \u001b[90m━━━━━━━━━━━━━━━━━━━━━━━━━━━━━━━━━━━━━━━━\u001b[0m \u001b[32m488.6/488.6 kB\u001b[0m \u001b[31m32.9 MB/s\u001b[0m eta \u001b[36m0:00:00\u001b[0m\n",
            "\u001b[?25hInstalling collected packages: JPype1, konlpy\n",
            "Successfully installed JPype1-1.5.0 konlpy-0.6.0\n",
            "\u001b[33mWARNING: Running pip as the 'root' user can result in broken permissions and conflicting behaviour with the system package manager. It is recommended to use a virtual environment instead: https://pip.pypa.io/warnings/venv\u001b[0m\u001b[33m\n",
            "\u001b[0m"
          ]
        }
      ]
    },
    {
      "cell_type": "markdown",
      "source": [
        "### 데이터 로딩"
      ],
      "metadata": {
        "id": "RLDP1Yh7zPmS"
      }
    },
    {
      "cell_type": "code",
      "source": [
        "import pandas as pd\n",
        "\n",
        "train_df = pd.read_csv('/content/drive/MyDrive/ESAA/24-1/자료/ratings_train.txt', sep='\\t')\n",
        "train_df.head(3)"
      ],
      "metadata": {
        "colab": {
          "base_uri": "https://localhost:8080/",
          "height": 143
        },
        "id": "ay6QxgbCzJoc",
        "outputId": "de67920c-8dbe-42d8-86c8-fe6bf73c214c"
      },
      "execution_count": 48,
      "outputs": [
        {
          "output_type": "execute_result",
          "data": {
            "text/plain": [
              "         id                           document  label\n",
              "0   9976970                아 더빙.. 진짜 짜증나네요 목소리      0\n",
              "1   3819312  흠...포스터보고 초딩영화줄....오버연기조차 가볍지 않구나      1\n",
              "2  10265843                  너무재밓었다그래서보는것을추천한다      0"
            ],
            "text/html": [
              "\n",
              "  <div id=\"df-a19a2805-ad2d-4694-aa19-91aa06049cff\" class=\"colab-df-container\">\n",
              "    <div>\n",
              "<style scoped>\n",
              "    .dataframe tbody tr th:only-of-type {\n",
              "        vertical-align: middle;\n",
              "    }\n",
              "\n",
              "    .dataframe tbody tr th {\n",
              "        vertical-align: top;\n",
              "    }\n",
              "\n",
              "    .dataframe thead th {\n",
              "        text-align: right;\n",
              "    }\n",
              "</style>\n",
              "<table border=\"1\" class=\"dataframe\">\n",
              "  <thead>\n",
              "    <tr style=\"text-align: right;\">\n",
              "      <th></th>\n",
              "      <th>id</th>\n",
              "      <th>document</th>\n",
              "      <th>label</th>\n",
              "    </tr>\n",
              "  </thead>\n",
              "  <tbody>\n",
              "    <tr>\n",
              "      <th>0</th>\n",
              "      <td>9976970</td>\n",
              "      <td>아 더빙.. 진짜 짜증나네요 목소리</td>\n",
              "      <td>0</td>\n",
              "    </tr>\n",
              "    <tr>\n",
              "      <th>1</th>\n",
              "      <td>3819312</td>\n",
              "      <td>흠...포스터보고 초딩영화줄....오버연기조차 가볍지 않구나</td>\n",
              "      <td>1</td>\n",
              "    </tr>\n",
              "    <tr>\n",
              "      <th>2</th>\n",
              "      <td>10265843</td>\n",
              "      <td>너무재밓었다그래서보는것을추천한다</td>\n",
              "      <td>0</td>\n",
              "    </tr>\n",
              "  </tbody>\n",
              "</table>\n",
              "</div>\n",
              "    <div class=\"colab-df-buttons\">\n",
              "\n",
              "  <div class=\"colab-df-container\">\n",
              "    <button class=\"colab-df-convert\" onclick=\"convertToInteractive('df-a19a2805-ad2d-4694-aa19-91aa06049cff')\"\n",
              "            title=\"Convert this dataframe to an interactive table.\"\n",
              "            style=\"display:none;\">\n",
              "\n",
              "  <svg xmlns=\"http://www.w3.org/2000/svg\" height=\"24px\" viewBox=\"0 -960 960 960\">\n",
              "    <path d=\"M120-120v-720h720v720H120Zm60-500h600v-160H180v160Zm220 220h160v-160H400v160Zm0 220h160v-160H400v160ZM180-400h160v-160H180v160Zm440 0h160v-160H620v160ZM180-180h160v-160H180v160Zm440 0h160v-160H620v160Z\"/>\n",
              "  </svg>\n",
              "    </button>\n",
              "\n",
              "  <style>\n",
              "    .colab-df-container {\n",
              "      display:flex;\n",
              "      gap: 12px;\n",
              "    }\n",
              "\n",
              "    .colab-df-convert {\n",
              "      background-color: #E8F0FE;\n",
              "      border: none;\n",
              "      border-radius: 50%;\n",
              "      cursor: pointer;\n",
              "      display: none;\n",
              "      fill: #1967D2;\n",
              "      height: 32px;\n",
              "      padding: 0 0 0 0;\n",
              "      width: 32px;\n",
              "    }\n",
              "\n",
              "    .colab-df-convert:hover {\n",
              "      background-color: #E2EBFA;\n",
              "      box-shadow: 0px 1px 2px rgba(60, 64, 67, 0.3), 0px 1px 3px 1px rgba(60, 64, 67, 0.15);\n",
              "      fill: #174EA6;\n",
              "    }\n",
              "\n",
              "    .colab-df-buttons div {\n",
              "      margin-bottom: 4px;\n",
              "    }\n",
              "\n",
              "    [theme=dark] .colab-df-convert {\n",
              "      background-color: #3B4455;\n",
              "      fill: #D2E3FC;\n",
              "    }\n",
              "\n",
              "    [theme=dark] .colab-df-convert:hover {\n",
              "      background-color: #434B5C;\n",
              "      box-shadow: 0px 1px 3px 1px rgba(0, 0, 0, 0.15);\n",
              "      filter: drop-shadow(0px 1px 2px rgba(0, 0, 0, 0.3));\n",
              "      fill: #FFFFFF;\n",
              "    }\n",
              "  </style>\n",
              "\n",
              "    <script>\n",
              "      const buttonEl =\n",
              "        document.querySelector('#df-a19a2805-ad2d-4694-aa19-91aa06049cff button.colab-df-convert');\n",
              "      buttonEl.style.display =\n",
              "        google.colab.kernel.accessAllowed ? 'block' : 'none';\n",
              "\n",
              "      async function convertToInteractive(key) {\n",
              "        const element = document.querySelector('#df-a19a2805-ad2d-4694-aa19-91aa06049cff');\n",
              "        const dataTable =\n",
              "          await google.colab.kernel.invokeFunction('convertToInteractive',\n",
              "                                                    [key], {});\n",
              "        if (!dataTable) return;\n",
              "\n",
              "        const docLinkHtml = 'Like what you see? Visit the ' +\n",
              "          '<a target=\"_blank\" href=https://colab.research.google.com/notebooks/data_table.ipynb>data table notebook</a>'\n",
              "          + ' to learn more about interactive tables.';\n",
              "        element.innerHTML = '';\n",
              "        dataTable['output_type'] = 'display_data';\n",
              "        await google.colab.output.renderOutput(dataTable, element);\n",
              "        const docLink = document.createElement('div');\n",
              "        docLink.innerHTML = docLinkHtml;\n",
              "        element.appendChild(docLink);\n",
              "      }\n",
              "    </script>\n",
              "  </div>\n",
              "\n",
              "\n",
              "<div id=\"df-b908e2bd-193c-4a1e-bac5-1c00a1c61970\">\n",
              "  <button class=\"colab-df-quickchart\" onclick=\"quickchart('df-b908e2bd-193c-4a1e-bac5-1c00a1c61970')\"\n",
              "            title=\"Suggest charts\"\n",
              "            style=\"display:none;\">\n",
              "\n",
              "<svg xmlns=\"http://www.w3.org/2000/svg\" height=\"24px\"viewBox=\"0 0 24 24\"\n",
              "     width=\"24px\">\n",
              "    <g>\n",
              "        <path d=\"M19 3H5c-1.1 0-2 .9-2 2v14c0 1.1.9 2 2 2h14c1.1 0 2-.9 2-2V5c0-1.1-.9-2-2-2zM9 17H7v-7h2v7zm4 0h-2V7h2v10zm4 0h-2v-4h2v4z\"/>\n",
              "    </g>\n",
              "</svg>\n",
              "  </button>\n",
              "\n",
              "<style>\n",
              "  .colab-df-quickchart {\n",
              "      --bg-color: #E8F0FE;\n",
              "      --fill-color: #1967D2;\n",
              "      --hover-bg-color: #E2EBFA;\n",
              "      --hover-fill-color: #174EA6;\n",
              "      --disabled-fill-color: #AAA;\n",
              "      --disabled-bg-color: #DDD;\n",
              "  }\n",
              "\n",
              "  [theme=dark] .colab-df-quickchart {\n",
              "      --bg-color: #3B4455;\n",
              "      --fill-color: #D2E3FC;\n",
              "      --hover-bg-color: #434B5C;\n",
              "      --hover-fill-color: #FFFFFF;\n",
              "      --disabled-bg-color: #3B4455;\n",
              "      --disabled-fill-color: #666;\n",
              "  }\n",
              "\n",
              "  .colab-df-quickchart {\n",
              "    background-color: var(--bg-color);\n",
              "    border: none;\n",
              "    border-radius: 50%;\n",
              "    cursor: pointer;\n",
              "    display: none;\n",
              "    fill: var(--fill-color);\n",
              "    height: 32px;\n",
              "    padding: 0;\n",
              "    width: 32px;\n",
              "  }\n",
              "\n",
              "  .colab-df-quickchart:hover {\n",
              "    background-color: var(--hover-bg-color);\n",
              "    box-shadow: 0 1px 2px rgba(60, 64, 67, 0.3), 0 1px 3px 1px rgba(60, 64, 67, 0.15);\n",
              "    fill: var(--button-hover-fill-color);\n",
              "  }\n",
              "\n",
              "  .colab-df-quickchart-complete:disabled,\n",
              "  .colab-df-quickchart-complete:disabled:hover {\n",
              "    background-color: var(--disabled-bg-color);\n",
              "    fill: var(--disabled-fill-color);\n",
              "    box-shadow: none;\n",
              "  }\n",
              "\n",
              "  .colab-df-spinner {\n",
              "    border: 2px solid var(--fill-color);\n",
              "    border-color: transparent;\n",
              "    border-bottom-color: var(--fill-color);\n",
              "    animation:\n",
              "      spin 1s steps(1) infinite;\n",
              "  }\n",
              "\n",
              "  @keyframes spin {\n",
              "    0% {\n",
              "      border-color: transparent;\n",
              "      border-bottom-color: var(--fill-color);\n",
              "      border-left-color: var(--fill-color);\n",
              "    }\n",
              "    20% {\n",
              "      border-color: transparent;\n",
              "      border-left-color: var(--fill-color);\n",
              "      border-top-color: var(--fill-color);\n",
              "    }\n",
              "    30% {\n",
              "      border-color: transparent;\n",
              "      border-left-color: var(--fill-color);\n",
              "      border-top-color: var(--fill-color);\n",
              "      border-right-color: var(--fill-color);\n",
              "    }\n",
              "    40% {\n",
              "      border-color: transparent;\n",
              "      border-right-color: var(--fill-color);\n",
              "      border-top-color: var(--fill-color);\n",
              "    }\n",
              "    60% {\n",
              "      border-color: transparent;\n",
              "      border-right-color: var(--fill-color);\n",
              "    }\n",
              "    80% {\n",
              "      border-color: transparent;\n",
              "      border-right-color: var(--fill-color);\n",
              "      border-bottom-color: var(--fill-color);\n",
              "    }\n",
              "    90% {\n",
              "      border-color: transparent;\n",
              "      border-bottom-color: var(--fill-color);\n",
              "    }\n",
              "  }\n",
              "</style>\n",
              "\n",
              "  <script>\n",
              "    async function quickchart(key) {\n",
              "      const quickchartButtonEl =\n",
              "        document.querySelector('#' + key + ' button');\n",
              "      quickchartButtonEl.disabled = true;  // To prevent multiple clicks.\n",
              "      quickchartButtonEl.classList.add('colab-df-spinner');\n",
              "      try {\n",
              "        const charts = await google.colab.kernel.invokeFunction(\n",
              "            'suggestCharts', [key], {});\n",
              "      } catch (error) {\n",
              "        console.error('Error during call to suggestCharts:', error);\n",
              "      }\n",
              "      quickchartButtonEl.classList.remove('colab-df-spinner');\n",
              "      quickchartButtonEl.classList.add('colab-df-quickchart-complete');\n",
              "    }\n",
              "    (() => {\n",
              "      let quickchartButtonEl =\n",
              "        document.querySelector('#df-b908e2bd-193c-4a1e-bac5-1c00a1c61970 button');\n",
              "      quickchartButtonEl.style.display =\n",
              "        google.colab.kernel.accessAllowed ? 'block' : 'none';\n",
              "    })();\n",
              "  </script>\n",
              "</div>\n",
              "\n",
              "    </div>\n",
              "  </div>\n"
            ],
            "application/vnd.google.colaboratory.intrinsic+json": {
              "type": "dataframe",
              "variable_name": "train_df"
            }
          },
          "metadata": {},
          "execution_count": 48
        }
      ]
    },
    {
      "cell_type": "markdown",
      "source": [
        "- 학습 데이터 세트의 0과 1의 Label 값 비율\n",
        " - 1이 긍정, 0이 부정 감성"
      ],
      "metadata": {
        "id": "Vkq70Kpyzsc0"
      }
    },
    {
      "cell_type": "code",
      "source": [
        "train_df['label'].value_counts()"
      ],
      "metadata": {
        "colab": {
          "base_uri": "https://localhost:8080/"
        },
        "id": "yr_hM9dMzqbc",
        "outputId": "e0de082d-8e4d-4268-e6ba-eaaaa4903121"
      },
      "execution_count": 49,
      "outputs": [
        {
          "output_type": "execute_result",
          "data": {
            "text/plain": [
              "label\n",
              "0    75173\n",
              "1    74827\n",
              "Name: count, dtype: int64"
            ]
          },
          "metadata": {},
          "execution_count": 49
        }
      ]
    },
    {
      "cell_type": "markdown",
      "source": [
        "- 균등한 분포"
      ],
      "metadata": {
        "id": "S9R8y8mn2HGP"
      }
    },
    {
      "cell_type": "markdown",
      "source": [
        "train_df의 경우 리뷰 텍스트를 가지는 'documnet' 칼럼에 Null 일부 존재해 공백으로 변환\n",
        "- 문자가 아닌 숫자의 경우 단어적인 의미로 부족해 파이썬 정규 표현식 모듈인 re를 이용해 공백으로 변환\n",
        "- 테스트 데이터 세트의 경우도 동일한 데이터 가공 수행"
      ],
      "metadata": {
        "id": "fUmB3avn2M-4"
      }
    },
    {
      "cell_type": "code",
      "source": [
        "import re\n",
        "\n",
        "train_df = train_df.fillna(' ')\n",
        "# 정규 표현식을 이용해 숫자를 공백으로 변경(정규 표현식으로 \\d는 숫자를 의미함.)\n",
        "train_df['document'] = train_df['document'].apply(lambda x : re.sub(r\"\\d+\", \" \", x))\n",
        "\n",
        "# 테스트 데이터 세트를 로딩하고 동일하게 Null 및 숫자를 공백으로 변환\n",
        "test_df = pd.read_csv('/content/drive/MyDrive/ESAA/24-1/자료/ratings_test.txt', sep='\\t')\n",
        "test_df = test_df.fillna(' ')\n",
        "test_df['document'] = test_df['document'].apply(lambda x : re.sub(r\"\\d+\", \" \", x))\n",
        "\n",
        "# id 칼럼 삭제 수행\n",
        "train_df.drop('id', axis=1, inplace=True)\n",
        "test_df.drop('id', axis=1, inplace=True)"
      ],
      "metadata": {
        "id": "BL0YRyUuzsHx"
      },
      "execution_count": 50,
      "outputs": []
    },
    {
      "cell_type": "markdown",
      "source": [
        "TF-IDF 방식으로 단어를 벡터화\n",
        "- 각 문장을 한글 형태로 분석을 토해 형태소 단어로 토큰화\n",
        "- 한글 형태소 에진은 SNS 분서게 적합한 Twitter 클래스를 이용\n",
        "- Twitter 객체의 morphs() 메서드를 이용하면 입력 인자로 들어온 문장을 형태소 단어 혀태로 토큰화해 list 객체로 반환\n",
        "- tw_Tokenizer() : 문장을 형태로 단어 형태로 변환하는 함수"
      ],
      "metadata": {
        "id": "KTrRaEHP2W5m"
      }
    },
    {
      "cell_type": "code",
      "source": [
        "from konlpy.tag import Twitter\n",
        "\n",
        "twitter = Twitter()\n",
        "def tw_tokenizer(text):\n",
        "  # 입력 인자로 들어온 텍스트를 형태소 단어로 토큰화해 리스트 형태로 반환\n",
        "  tokens_ko = twitter.morphs(text)\n",
        "  return tokens_ko"
      ],
      "metadata": {
        "colab": {
          "base_uri": "https://localhost:8080/"
        },
        "id": "x3Y19h__2Vaw",
        "outputId": "aa5699bf-b99f-496e-9dda-fdacc0f5ae1e"
      },
      "execution_count": 51,
      "outputs": [
        {
          "output_type": "stream",
          "name": "stderr",
          "text": [
            "/usr/local/lib/python3.10/dist-packages/konlpy/tag/_okt.py:17: UserWarning: \"Twitter\" has changed to \"Okt\" since KoNLPy v0.4.5.\n",
            "  warn('\"Twitter\" has changed to \"Okt\" since KoNLPy v0.4.5.')\n"
          ]
        }
      ]
    },
    {
      "cell_type": "markdown",
      "source": [
        "사이킷런의 TfidVectorizer를 이용해 TF-IDF 피처 모델 생성"
      ],
      "metadata": {
        "id": "2iuMUdyP20cM"
      }
    },
    {
      "cell_type": "code",
      "source": [
        "from sklearn.feature_extraction.text import TfidfVectorizer\n",
        "from sklearn.linear_model import LogisticRegression\n",
        "from sklearn.model_selection import GridSearchCV\n",
        "\n",
        "# Twitter 객체의 morphs() 객체를 이용한 tokenizer를 사용. ngram_range는 (1,2)\n",
        "tfidf_vect = TfidfVectorizer(tokenizer=tw_tokenizer, ngram_range=(1,2), min_df=3, max_df=0.9)\n",
        "tfidf_vect.fit(train_df['document'])\n",
        "tfidf_matrix_train = tfidf_vect.transform(train_df['document'])"
      ],
      "metadata": {
        "colab": {
          "base_uri": "https://localhost:8080/"
        },
        "id": "L_QSH3wZ2zmq",
        "outputId": "95f68d82-645d-4046-824f-3c8a5f6e7a14"
      },
      "execution_count": 52,
      "outputs": [
        {
          "output_type": "stream",
          "name": "stderr",
          "text": [
            "/usr/local/lib/python3.10/dist-packages/sklearn/feature_extraction/text.py:528: UserWarning: The parameter 'token_pattern' will not be used since 'tokenizer' is not None'\n",
            "  warnings.warn(\n"
          ]
        }
      ]
    },
    {
      "cell_type": "markdown",
      "source": [
        "로지스틱 회귀를 이용해 분류 기반의 감성 분석 수행"
      ],
      "metadata": {
        "id": "DVRmCnQJ7gCP"
      }
    },
    {
      "cell_type": "code",
      "source": [
        "# 로지스틱 회귀를 이용해 감성 분석 분류 수행.\n",
        "lg_clf = LogisticRegression(random_state=0)\n",
        "\n",
        "# 파라미터 C 최적화를 위해 GridSearchCV를 이용.\n",
        "params = {'C' : [1, 3.5, 4.5, 5.5, 10]}\n",
        "grid_cv = GridSearchCV(lg_clf, param_grid=params, cv=3, scoring='accuracy', verbose=1)\n",
        "grid_cv.fit(tfidf_matrix_train, train_df['label'])\n",
        "print(grid_cv.best_params_, round(grid_cv.best_score_, 4))"
      ],
      "metadata": {
        "colab": {
          "base_uri": "https://localhost:8080/"
        },
        "id": "ZKX-apWb7eXH",
        "outputId": "03d2ee3e-632d-4204-b147-72784ba86d5f"
      },
      "execution_count": 53,
      "outputs": [
        {
          "output_type": "stream",
          "name": "stdout",
          "text": [
            "Fitting 3 folds for each of 5 candidates, totalling 15 fits\n"
          ]
        },
        {
          "output_type": "stream",
          "name": "stderr",
          "text": [
            "/usr/local/lib/python3.10/dist-packages/sklearn/linear_model/_logistic.py:458: ConvergenceWarning: lbfgs failed to converge (status=1):\n",
            "STOP: TOTAL NO. of ITERATIONS REACHED LIMIT.\n",
            "\n",
            "Increase the number of iterations (max_iter) or scale the data as shown in:\n",
            "    https://scikit-learn.org/stable/modules/preprocessing.html\n",
            "Please also refer to the documentation for alternative solver options:\n",
            "    https://scikit-learn.org/stable/modules/linear_model.html#logistic-regression\n",
            "  n_iter_i = _check_optimize_result(\n",
            "/usr/local/lib/python3.10/dist-packages/sklearn/linear_model/_logistic.py:458: ConvergenceWarning: lbfgs failed to converge (status=1):\n",
            "STOP: TOTAL NO. of ITERATIONS REACHED LIMIT.\n",
            "\n",
            "Increase the number of iterations (max_iter) or scale the data as shown in:\n",
            "    https://scikit-learn.org/stable/modules/preprocessing.html\n",
            "Please also refer to the documentation for alternative solver options:\n",
            "    https://scikit-learn.org/stable/modules/linear_model.html#logistic-regression\n",
            "  n_iter_i = _check_optimize_result(\n",
            "/usr/local/lib/python3.10/dist-packages/sklearn/linear_model/_logistic.py:458: ConvergenceWarning: lbfgs failed to converge (status=1):\n",
            "STOP: TOTAL NO. of ITERATIONS REACHED LIMIT.\n",
            "\n",
            "Increase the number of iterations (max_iter) or scale the data as shown in:\n",
            "    https://scikit-learn.org/stable/modules/preprocessing.html\n",
            "Please also refer to the documentation for alternative solver options:\n",
            "    https://scikit-learn.org/stable/modules/linear_model.html#logistic-regression\n",
            "  n_iter_i = _check_optimize_result(\n",
            "/usr/local/lib/python3.10/dist-packages/sklearn/linear_model/_logistic.py:458: ConvergenceWarning: lbfgs failed to converge (status=1):\n",
            "STOP: TOTAL NO. of ITERATIONS REACHED LIMIT.\n",
            "\n",
            "Increase the number of iterations (max_iter) or scale the data as shown in:\n",
            "    https://scikit-learn.org/stable/modules/preprocessing.html\n",
            "Please also refer to the documentation for alternative solver options:\n",
            "    https://scikit-learn.org/stable/modules/linear_model.html#logistic-regression\n",
            "  n_iter_i = _check_optimize_result(\n",
            "/usr/local/lib/python3.10/dist-packages/sklearn/linear_model/_logistic.py:458: ConvergenceWarning: lbfgs failed to converge (status=1):\n",
            "STOP: TOTAL NO. of ITERATIONS REACHED LIMIT.\n",
            "\n",
            "Increase the number of iterations (max_iter) or scale the data as shown in:\n",
            "    https://scikit-learn.org/stable/modules/preprocessing.html\n",
            "Please also refer to the documentation for alternative solver options:\n",
            "    https://scikit-learn.org/stable/modules/linear_model.html#logistic-regression\n",
            "  n_iter_i = _check_optimize_result(\n",
            "/usr/local/lib/python3.10/dist-packages/sklearn/linear_model/_logistic.py:458: ConvergenceWarning: lbfgs failed to converge (status=1):\n",
            "STOP: TOTAL NO. of ITERATIONS REACHED LIMIT.\n",
            "\n",
            "Increase the number of iterations (max_iter) or scale the data as shown in:\n",
            "    https://scikit-learn.org/stable/modules/preprocessing.html\n",
            "Please also refer to the documentation for alternative solver options:\n",
            "    https://scikit-learn.org/stable/modules/linear_model.html#logistic-regression\n",
            "  n_iter_i = _check_optimize_result(\n",
            "/usr/local/lib/python3.10/dist-packages/sklearn/linear_model/_logistic.py:458: ConvergenceWarning: lbfgs failed to converge (status=1):\n",
            "STOP: TOTAL NO. of ITERATIONS REACHED LIMIT.\n",
            "\n",
            "Increase the number of iterations (max_iter) or scale the data as shown in:\n",
            "    https://scikit-learn.org/stable/modules/preprocessing.html\n",
            "Please also refer to the documentation for alternative solver options:\n",
            "    https://scikit-learn.org/stable/modules/linear_model.html#logistic-regression\n",
            "  n_iter_i = _check_optimize_result(\n",
            "/usr/local/lib/python3.10/dist-packages/sklearn/linear_model/_logistic.py:458: ConvergenceWarning: lbfgs failed to converge (status=1):\n",
            "STOP: TOTAL NO. of ITERATIONS REACHED LIMIT.\n",
            "\n",
            "Increase the number of iterations (max_iter) or scale the data as shown in:\n",
            "    https://scikit-learn.org/stable/modules/preprocessing.html\n",
            "Please also refer to the documentation for alternative solver options:\n",
            "    https://scikit-learn.org/stable/modules/linear_model.html#logistic-regression\n",
            "  n_iter_i = _check_optimize_result(\n",
            "/usr/local/lib/python3.10/dist-packages/sklearn/linear_model/_logistic.py:458: ConvergenceWarning: lbfgs failed to converge (status=1):\n",
            "STOP: TOTAL NO. of ITERATIONS REACHED LIMIT.\n",
            "\n",
            "Increase the number of iterations (max_iter) or scale the data as shown in:\n",
            "    https://scikit-learn.org/stable/modules/preprocessing.html\n",
            "Please also refer to the documentation for alternative solver options:\n",
            "    https://scikit-learn.org/stable/modules/linear_model.html#logistic-regression\n",
            "  n_iter_i = _check_optimize_result(\n",
            "/usr/local/lib/python3.10/dist-packages/sklearn/linear_model/_logistic.py:458: ConvergenceWarning: lbfgs failed to converge (status=1):\n",
            "STOP: TOTAL NO. of ITERATIONS REACHED LIMIT.\n",
            "\n",
            "Increase the number of iterations (max_iter) or scale the data as shown in:\n",
            "    https://scikit-learn.org/stable/modules/preprocessing.html\n",
            "Please also refer to the documentation for alternative solver options:\n",
            "    https://scikit-learn.org/stable/modules/linear_model.html#logistic-regression\n",
            "  n_iter_i = _check_optimize_result(\n",
            "/usr/local/lib/python3.10/dist-packages/sklearn/linear_model/_logistic.py:458: ConvergenceWarning: lbfgs failed to converge (status=1):\n",
            "STOP: TOTAL NO. of ITERATIONS REACHED LIMIT.\n",
            "\n",
            "Increase the number of iterations (max_iter) or scale the data as shown in:\n",
            "    https://scikit-learn.org/stable/modules/preprocessing.html\n",
            "Please also refer to the documentation for alternative solver options:\n",
            "    https://scikit-learn.org/stable/modules/linear_model.html#logistic-regression\n",
            "  n_iter_i = _check_optimize_result(\n",
            "/usr/local/lib/python3.10/dist-packages/sklearn/linear_model/_logistic.py:458: ConvergenceWarning: lbfgs failed to converge (status=1):\n",
            "STOP: TOTAL NO. of ITERATIONS REACHED LIMIT.\n",
            "\n",
            "Increase the number of iterations (max_iter) or scale the data as shown in:\n",
            "    https://scikit-learn.org/stable/modules/preprocessing.html\n",
            "Please also refer to the documentation for alternative solver options:\n",
            "    https://scikit-learn.org/stable/modules/linear_model.html#logistic-regression\n",
            "  n_iter_i = _check_optimize_result(\n"
          ]
        },
        {
          "output_type": "stream",
          "name": "stdout",
          "text": [
            "{'C': 3.5} 0.8593\n"
          ]
        },
        {
          "output_type": "stream",
          "name": "stderr",
          "text": [
            "/usr/local/lib/python3.10/dist-packages/sklearn/linear_model/_logistic.py:458: ConvergenceWarning: lbfgs failed to converge (status=1):\n",
            "STOP: TOTAL NO. of ITERATIONS REACHED LIMIT.\n",
            "\n",
            "Increase the number of iterations (max_iter) or scale the data as shown in:\n",
            "    https://scikit-learn.org/stable/modules/preprocessing.html\n",
            "Please also refer to the documentation for alternative solver options:\n",
            "    https://scikit-learn.org/stable/modules/linear_model.html#logistic-regression\n",
            "  n_iter_i = _check_optimize_result(\n"
          ]
        }
      ]
    },
    {
      "cell_type": "markdown",
      "source": [
        "- C가 3.5일 때 최고 정확도를 보였다."
      ],
      "metadata": {
        "id": "AKXJ2-_B7kpd"
      }
    },
    {
      "cell_type": "markdown",
      "source": [
        "테스트 세트 이용해 최종 감성 분석 예측 수행\n",
        "\n",
        "- 테스트 세트 이용해 예측할 때는 학습할 때 적용한 TfidfVectorizer 그대로 사용해야한다\n",
        "- 그래야만 학습 시 설정된 TfidfVectorizer의 피처 개수와 테스트 데이터를 TfidfVectorizer로 변환할 피처 개수가 같아진다"
      ],
      "metadata": {
        "id": "mTMboRn37siR"
      }
    },
    {
      "cell_type": "code",
      "source": [
        "from sklearn.metrics import accuracy_score\n",
        "\n",
        "# 학습 데이터를 적용한 TfidfVectorizer를 이용해 테스트 데이터를 TF-IDF 값으로 피처 변환함.\n",
        "tfidf_matrix_test = tfidf_vect.transform(test_df['document'])\n",
        "\n",
        "# classifier는 GridSearchCV에서 최적 파라미터로 학습된 classifier를 그대로 이용\n",
        "best_estimator = grid_cv.best_estimator_\n",
        "preds = best_estimator.predict(tfidf_matrix_test)\n",
        "\n",
        "print('Logistic Regression 정확도: ', accuracy_score(test_df['label'], preds))"
      ],
      "metadata": {
        "colab": {
          "base_uri": "https://localhost:8080/"
        },
        "id": "UhkF2p7C7jYF",
        "outputId": "20bd61df-1ff2-4151-f57f-c45236693e61"
      },
      "execution_count": 54,
      "outputs": [
        {
          "output_type": "stream",
          "name": "stdout",
          "text": [
            "Logistic Regression 정확도:  0.86186\n"
          ]
        }
      ]
    }
  ]
}