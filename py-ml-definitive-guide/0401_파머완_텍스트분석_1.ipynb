{
  "nbformat": 4,
  "nbformat_minor": 0,
  "metadata": {
    "colab": {
      "provenance": [],
      "authorship_tag": "ABX9TyMAi39WcnAda4JUXnqczejT"
    },
    "kernelspec": {
      "name": "python3",
      "display_name": "Python 3"
    },
    "language_info": {
      "name": "python"
    }
  },
  "cells": [
    {
      "cell_type": "markdown",
      "source": [
        "파이썬 머신러닝 완벽 가이드 ch8. 1 ~ 3 pg. 466 ~ 486\n",
        "\n",
        "---"
      ],
      "metadata": {
        "id": "AMjhtKXrP3BD"
      }
    },
    {
      "cell_type": "markdown",
      "source": [
        "# CHAPTER 08 텍스트 분석"
      ],
      "metadata": {
        "id": "XJSEZvdYP8Tz"
      }
    },
    {
      "cell_type": "markdown",
      "source": [
        "### NPL vs 텍스트 분석\n",
        "1. NPL\n",
        "- 머신이 인간의 언어를 이해하고 해석하는 데 더 중점을 두고 기술이 발전\n",
        "- 텍스트 분석을 향상하게 하는 기반 기술이라고 할 수 있다.\n",
        "2. 텍스트 마이닝(텍스트 분석)\n",
        "- 비정형 텍스트에서 의미 있는 정보를 추출하는 것에 더 중덤을 두고 기술이 발전\n",
        "- 모델을 수립하고 정보를 추출해 분석 작업을 수행한다.\n",
        "  - 텍스트 분류\n",
        "  - 감성 분석\n",
        "  - 텍스트 요약\n",
        "  - 텍스트 군집화"
      ],
      "metadata": {
        "id": "FAsb2S0hQAhQ"
      }
    },
    {
      "cell_type": "markdown",
      "source": [
        "## 01 텍스트 분석 이해"
      ],
      "metadata": {
        "id": "VLA1JSaOSv5V"
      }
    },
    {
      "cell_type": "markdown",
      "source": [
        "비정형 데이터인 텍스트 분석\n",
        "\n",
        "지금까지 ML 모델은 주어진 정형 데이터 기반에서 모델을 수립하고 예측을 수행했다.\n",
        "\n",
        "머신러닝 알고리즘은 숫자형의 피처 기반 데이터만 입력받을 수 있기 때문에 텍스트를 머신러닝에 적용하기 위해서는 비정형 텍스트 데이터를 어떻게 피처 형태로 추출하고 추출된 피처에 의미 있는 값을 부여하는가 하는 거시 매우 중요한 요소이다.\n",
        "\n",
        "`피처 벡터화`, `피처 추출`\n",
        "- 텍스트를 word 기반의 다수 피처로 추출\n",
        "- -> 이 피처에 단어 빈도수와 같은 숫자 값을 부여\n",
        "- -> 텍스트는 단어 조합인 벡터값으로 표현\n",
        "\n",
        "텍스트를 피처 벡터화해서 변환하는 방법 : BOW(Bag of words), Wor2Vec\n"
      ],
      "metadata": {
        "id": "R_keX8ObSyjD"
      }
    },
    {
      "cell_type": "markdown",
      "source": [
        "### 텍스트 분석 수행 프로세스\n",
        "\n",
        "1. 텍스트 전처리\n",
        "- 클렌징, 대/소문자 변경, 특수문자 삭제, 토큰화, stop word 제거, 어근 추출 등\n",
        "2.피처 벡터화/추출\n",
        "3. ML 모델 수립 및 학습/예측/평가"
      ],
      "metadata": {
        "id": "a4ALspWMVpKr"
      }
    },
    {
      "cell_type": "markdown",
      "source": [
        "### 파이썬 기반의 NLP, 텍스트 분석 패키지"
      ],
      "metadata": {
        "id": "jrQMWABXV87-"
      }
    },
    {
      "cell_type": "markdown",
      "source": [
        "- NLTK\n",
        "- Gensim\n",
        "- SpaCy"
      ],
      "metadata": {
        "id": "iO-zmR68WC0M"
      }
    },
    {
      "cell_type": "markdown",
      "source": [
        "## 텍스트 사전 준비 작업(텍스트 전처리) - 텍스트 정규화"
      ],
      "metadata": {
        "id": "hLTIG6N6WIOe"
      }
    },
    {
      "cell_type": "markdown",
      "source": [
        "- 클렌징\n",
        "- 토큰화\n",
        "- 필터링/스톱 워드 제거/철자 수정\n",
        "- Stemming\n",
        "- Lemmatization"
      ],
      "metadata": {
        "id": "iZbtAlJ6p3ZD"
      }
    },
    {
      "cell_type": "markdown",
      "source": [
        "### 클랜징"
      ],
      "metadata": {
        "id": "JlLx_cV5p_z-"
      }
    },
    {
      "cell_type": "markdown",
      "source": [
        "텍스트 분석에 오히려 방해가 되는 불필요한 문자, 기호 등을 사전에 제거하는 작업\n",
        "\n",
        "- 예 : HTML 태그나 특정 기호"
      ],
      "metadata": {
        "id": "8EtxDwAgqBeC"
      }
    },
    {
      "cell_type": "markdown",
      "source": [
        "### 텍스트 토큰화"
      ],
      "metadata": {
        "id": "gJ3d1j7iqJQz"
      }
    },
    {
      "cell_type": "markdown",
      "source": [
        "#### 문장 토큰화\n",
        "- 문장의 마침표, 개행문자(\\n) 등 문장의 마지막을 뜻하는 기호에 따라 분리하는 것이 일반적\n",
        "- 정규 표현식에 따른 문장 토큰화도 가능하다.\n",
        "- NLTK의 sent_tokenize를 이용해보자"
      ],
      "metadata": {
        "id": "k-YUOB0OqMju"
      }
    },
    {
      "cell_type": "code",
      "execution_count": 1,
      "metadata": {
        "id": "dePjRjc-TH-N",
        "colab": {
          "base_uri": "https://localhost:8080/"
        },
        "outputId": "36d1f687-9356-4bff-ace6-702bd252521e"
      },
      "outputs": [
        {
          "output_type": "stream",
          "name": "stderr",
          "text": [
            "[nltk_data] Downloading package punkt to /root/nltk_data...\n",
            "[nltk_data]   Unzipping tokenizers/punkt.zip.\n"
          ]
        },
        {
          "output_type": "stream",
          "name": "stdout",
          "text": [
            "<class 'list'> 3\n",
            "['The Matrix is everywhere its all around us, here even in this room.', 'You can see it out your window or on your television.', 'You feel it when you go to work, or go to church or pay your taxes.']\n"
          ]
        }
      ],
      "source": [
        "from nltk import sent_tokenize\n",
        "import nltk\n",
        "nltk.download('punkt')\n",
        "\n",
        "text_sample = 'The Matrix is everywhere its all around us, here even in this room. \\\n",
        "               You can see it out your window or on your television. \\\n",
        "               You feel it when you go to work, or go to church or pay your taxes.'\n",
        "sentences = sent_tokenize(text=text_sample)\n",
        "print(type(sentences), len(sentences))\n",
        "print(sentences)"
      ]
    },
    {
      "cell_type": "markdown",
      "source": [
        "- sent_tokenize()가 반환하는 것은 각각의 문장으로 구성된 list 객체\n",
        "- 3개의 문장으로 된 문자열을 갖고 있다."
      ],
      "metadata": {
        "id": "jKbQM4zOqkSo"
      }
    },
    {
      "cell_type": "markdown",
      "source": [
        "#### 단어 토큰화"
      ],
      "metadata": {
        "id": "AvgP7JAyq4iO"
      }
    },
    {
      "cell_type": "markdown",
      "source": [
        "- 문장을 단어로 토큰화\n",
        "- 기본적으로 공백, 콤마, 마침표, 개행문자 등으로 단어를 분리하지만 정규 표현식을 이용해 다양한 유형으로 토큰화를 수행할 수 있다.\n",
        "- Bag of Word 와 같이 단어의 순서가 중요하지 않은 경우, 문장 토큰화를 사용하지 않고 단어 토큰화만 사용해도 충분하다.\n",
        "- 문장 토큰화는 각 문장이 가지는 시맨틱적인 의미가 중요한 요소로 사용될 때 사용한다.\n",
        "- NLTK의 word_tokenize() 사용"
      ],
      "metadata": {
        "id": "KkYJrJWEq6Vc"
      }
    },
    {
      "cell_type": "code",
      "source": [
        "from nltk import word_tokenize\n",
        "sentence = \"The Matrix is everywhere its all around us, hear even in this room.\"\n",
        "words = word_tokenize(sentence)\n",
        "print(type(words), len(words))\n",
        "print(words)"
      ],
      "metadata": {
        "colab": {
          "base_uri": "https://localhost:8080/"
        },
        "id": "fc6fo_01qje4",
        "outputId": "2bf7e93e-8676-447c-88ef-fd7821cca8bd"
      },
      "execution_count": 2,
      "outputs": [
        {
          "output_type": "stream",
          "name": "stdout",
          "text": [
            "<class 'list'> 15\n",
            "['The', 'Matrix', 'is', 'everywhere', 'its', 'all', 'around', 'us', ',', 'hear', 'even', 'in', 'this', 'room', '.']\n"
          ]
        }
      ]
    },
    {
      "cell_type": "code",
      "source": [
        "# sent_tokenize & word_tokenize 조합\n",
        "from nltk import word_tokenize, sent_tokenize\n",
        "\n",
        "#여러 개의 문장으로 된 입력 데이터를 문장별로 단어 토큰화하게 만드는 함수 생성\n",
        "def tokenize_text(text):\n",
        "\n",
        "  # 문장별로 분리 토큰\n",
        "  sentences = sent_tokenize(text)\n",
        "  # 분리된 문장별 단어 토큰화\n",
        "  word_tokens = [word_tokenize(sentence) for sentence in sentences]\n",
        "  return word_tokens\n",
        "\n",
        "# 여러 문장에 대해 문장별 단어 토큰화 수행.\n",
        "word_tokens = tokenize_text(text_sample)\n",
        "print(type(word_tokens), len(word_tokens))\n",
        "print(word_tokens)"
      ],
      "metadata": {
        "colab": {
          "base_uri": "https://localhost:8080/"
        },
        "id": "8QTgM7otrugA",
        "outputId": "17d03d9c-ba5d-4f65-a489-d000fd8f4dc1"
      },
      "execution_count": 3,
      "outputs": [
        {
          "output_type": "stream",
          "name": "stdout",
          "text": [
            "<class 'list'> 3\n",
            "[['The', 'Matrix', 'is', 'everywhere', 'its', 'all', 'around', 'us', ',', 'here', 'even', 'in', 'this', 'room', '.'], ['You', 'can', 'see', 'it', 'out', 'your', 'window', 'or', 'on', 'your', 'television', '.'], ['You', 'feel', 'it', 'when', 'you', 'go', 'to', 'work', ',', 'or', 'go', 'to', 'church', 'or', 'pay', 'your', 'taxes', '.']]\n"
          ]
        }
      ]
    },
    {
      "cell_type": "markdown",
      "source": [
        "- 문장별로 단어 토큰화 적용\n",
        "- 먼저 문장으로 나누고, 개별 문장을 다시 단어로 토큰화 하는 함수 생성\n",
        "- 3개 문장을 문장별로 먼저 토큰화했으므로 work_tokens 변수는 3개의 리스트 객체를 내포하는 리스트이다. 개별 리스트 객체는 각각 문장별로 토큰화된 단어를 요소로 가지고 있다.\n",
        "\n",
        "문장을 단어별로 하나씩 토큰화 할 경우, 문맥적인 의미는 무시될 수 밖에 없다.\n",
        "\n",
        "\n",
        "-> `n-gram` 도입\n",
        "- 연속된 n개의 단어를 하나의 토큰화 단위로 분리ㅎ 내는 것\n",
        "- n개 단어 크기 윈도우를 만들어 문자의 처움부터 오른쪽으로 움직이면서 토큰화 수행"
      ],
      "metadata": {
        "id": "zXwyssyTrzn-"
      }
    },
    {
      "cell_type": "markdown",
      "source": [
        "### 스톱 워드 제거"
      ],
      "metadata": {
        "id": "kf-hbej2s4G4"
      }
    },
    {
      "cell_type": "markdown",
      "source": [
        "- `스톱 워드(Stop word)` : 분서게 큰 의미가 없는 단어\n",
        "- 문법적인 특성으로 인해 빈번하게 텍스트에 나타나므로 사전에 제거하지 않으면 오히려 중요한 단어로 인지될 수 있다.\n",
        "- 언어별로 스톱 워드가 목록화 되어있다.\n",
        " - NLTK 의 stopwords\n"
      ],
      "metadata": {
        "id": "jq35Mgvhs5tM"
      }
    },
    {
      "cell_type": "code",
      "source": [
        "import nltk\n",
        "nltk.download('stopwords')"
      ],
      "metadata": {
        "colab": {
          "base_uri": "https://localhost:8080/"
        },
        "id": "kp0fFGoZr4IP",
        "outputId": "cbdaa253-b11e-4899-ae22-99520a3f9f0e"
      },
      "execution_count": 4,
      "outputs": [
        {
          "output_type": "stream",
          "name": "stderr",
          "text": [
            "[nltk_data] Downloading package stopwords to /root/nltk_data...\n",
            "[nltk_data]   Unzipping corpora/stopwords.zip.\n"
          ]
        },
        {
          "output_type": "execute_result",
          "data": {
            "text/plain": [
              "True"
            ]
          },
          "metadata": {},
          "execution_count": 4
        }
      ]
    },
    {
      "cell_type": "code",
      "source": [
        "print('영어 stop words 개수:', len(nltk.corpus.stopwords.words('english')))\n",
        "print(nltk.corpus.stopwords.words('english')[:20])"
      ],
      "metadata": {
        "colab": {
          "base_uri": "https://localhost:8080/"
        },
        "id": "L-GBm9EGtvFD",
        "outputId": "299bcb50-016c-4d5b-c239-44d257731be4"
      },
      "execution_count": 5,
      "outputs": [
        {
          "output_type": "stream",
          "name": "stdout",
          "text": [
            "영어 stop words 개수: 179\n",
            "['i', 'me', 'my', 'myself', 'we', 'our', 'ours', 'ourselves', 'you', \"you're\", \"you've\", \"you'll\", \"you'd\", 'your', 'yours', 'yourself', 'yourselves', 'he', 'him', 'his']\n"
          ]
        }
      ]
    },
    {
      "cell_type": "markdown",
      "source": [
        "- 영어의 경우 스톱 워드는 179개"
      ],
      "metadata": {
        "id": "vhFkV4w5t1WP"
      }
    },
    {
      "cell_type": "code",
      "source": [
        "import nltk\n",
        "\n",
        "stopwords = nltk.corpus.stopwords.words('english')\n",
        "all_tokens=[]\n",
        "# 위 예제에서 3개의 문장별로 얻은 word_tokens list에 대해 스톱 워드를 제거하는 반복문\n",
        "for sentence in word_tokens:\n",
        "  filtered_words=[]\n",
        "  #개별 문장별로 토큰화된 문장 list에 대해 스톱 워드를 제거하는 반복문\n",
        "  for word in sentence:\n",
        "    # 소문자로 모두 변환합니다.\n",
        "    word = word.lower()\n",
        "    # 토큰화된 개별 단어가 스톱 워드의 단어에 포함되지 않으면 word_tokens에 추가\n",
        "    if word not in stopwords:\n",
        "      filtered_words.append(word)\n",
        "  all_tokens.append(filtered_words)\n",
        "\n",
        "print(all_tokens)"
      ],
      "metadata": {
        "colab": {
          "base_uri": "https://localhost:8080/"
        },
        "id": "7LBoeYzStwzP",
        "outputId": "ab3203b7-3d6a-4dba-967c-8f8fa17f0c23"
      },
      "execution_count": 6,
      "outputs": [
        {
          "output_type": "stream",
          "name": "stdout",
          "text": [
            "[['matrix', 'everywhere', 'around', 'us', ',', 'even', 'room', '.'], ['see', 'window', 'television', '.'], ['feel', 'go', 'work', ',', 'go', 'church', 'pay', 'taxes', '.']]\n"
          ]
        }
      ]
    },
    {
      "cell_type": "markdown",
      "source": [
        "- 스톱 워드 제거"
      ],
      "metadata": {
        "id": "7rWJiqCLy-u7"
      }
    },
    {
      "cell_type": "markdown",
      "source": [
        "### Stemming과 Lemmatization"
      ],
      "metadata": {
        "id": "1KCEOFD6zCgs"
      }
    },
    {
      "cell_type": "markdown",
      "source": [
        "문법적 또는 의미적으로 변화하는 단어의 원형을 찾는 것\n",
        "\n",
        "- 두 기능 모두 목적(원형 단어 찾기)은 유사하지만, Lemmatization이 Stemming 보다 정교하며 의미론적인 기반에서 단어의 원형을 찾는다.\n",
        "\n",
        "- Stemming\n",
        " - 원형 단어로 변환 시 일반적인 방법을 적용하거나 더 단순화된 방법을 적용\n",
        " - 원래 단어에서 일부 철자가 훼손된 어근 단어를 추출\n",
        "\n",
        "- Lemmatization은 품ㅅ와 같은 문법적인 요소와 더 의미적인 부분을 감안해 정확한 철자로 된 어근 단어를 찾는다.\n",
        "\n",
        "- 따라서Lemmatization이 더 오래 걸린다.\n",
        "\n",
        "- NLTK는 다양한 Stemmer 제공\n",
        "- Lemmatization을 위해서는 WordNetLemmatizer를 제공\n",
        " - NLTK의 `LancasterStemmer`(Stemmer) : 진행형, 3인칭 단수, 과거형에 따른 동사, 그리고 비교, 최사에 따른 형용사의 변화에 따라 Stemming은 더 단순하게 원형 단어를 찾는다.\n",
        " - LAncasterStemmer()와 같이 필요한 객체를 생성한 뒤, 이 객체의 stem('단어') 메서드를 호출하면 원하는 단어의 Stemming이 가능하다."
      ],
      "metadata": {
        "id": "4bdwZxpMzIro"
      }
    },
    {
      "cell_type": "code",
      "source": [
        "from nltk.stem import LancasterStemmer\n",
        "stemmer = LancasterStemmer()\n",
        "\n",
        "print(stemmer.stem('working'), stemmer.stem('works'),stemmer.stem('worked'))\n",
        "print(stemmer.stem('amusing'), stemmer.stem('amuses'), stemmer.stem('amused'))\n",
        "print(stemmer.stem('happier'), stemmer.stem('happiest'))\n",
        "print(stemmer.stem('fancier'), stemmer.stem('fanciest'))"
      ],
      "metadata": {
        "colab": {
          "base_uri": "https://localhost:8080/"
        },
        "id": "-N4Q4gjDy8zm",
        "outputId": "2a3ca2b0-2931-40c7-e62b-0c094113e708"
      },
      "execution_count": 7,
      "outputs": [
        {
          "output_type": "stream",
          "name": "stdout",
          "text": [
            "work work work\n",
            "amus amus amus\n",
            "happy happiest\n",
            "fant fanciest\n"
          ]
        }
      ]
    },
    {
      "cell_type": "markdown",
      "source": [
        "- work : 제대로 인식\n",
        "- amuse : 인식 x -> amus를 원형 단어로 인식\n",
        "- happy, fancy : 비교형, 최상급형으로 변형된 단어의 정확한 원형을 찾지 못하고 원형 단어에서 철자가 다른 어근 단어로 인식"
      ],
      "metadata": {
        "id": "_YP_6m5f0nRI"
      }
    },
    {
      "cell_type": "markdown",
      "source": [
        "WordNetLemmatizer를 이용한 Lemmatization 수행\n",
        "- 단어의 품사 입력\n",
        "- lemmatize()의 파라미터로 동사의 경우'v', 형용사의 경우 'a'를 입력"
      ],
      "metadata": {
        "id": "PmAodD1t0136"
      }
    },
    {
      "cell_type": "code",
      "source": [
        "from nltk.stem import WordNetLemmatizer\n",
        "import nltk\n",
        "nltk.download('wordnet')\n",
        "\n",
        "lemma = WordNetLemmatizer()\n",
        "print(lemma.lemmatize('amusing', 'v'), lemma.lemmatize('amuses','v'), lemma.lemmatize('amused','v'))\n",
        "print(lemma.lemmatize('happier','a'), lemma.lemmatize('happiest','a'))\n",
        "print(lemma.lemmatize('fancier','a'), lemma.lemmatize('fanciest','a'))"
      ],
      "metadata": {
        "colab": {
          "base_uri": "https://localhost:8080/"
        },
        "id": "ZVADD0Bq0f0P",
        "outputId": "77332a9d-527d-48e7-87ad-4c402d82291b"
      },
      "execution_count": 8,
      "outputs": [
        {
          "output_type": "stream",
          "name": "stderr",
          "text": [
            "[nltk_data] Downloading package wordnet to /root/nltk_data...\n"
          ]
        },
        {
          "output_type": "stream",
          "name": "stdout",
          "text": [
            "amuse amuse amuse\n",
            "happy happy\n",
            "fancy fancy\n"
          ]
        }
      ]
    },
    {
      "cell_type": "markdown",
      "source": [
        "- Stemmer 보다 정확하게 원형 단어를 추출한다."
      ],
      "metadata": {
        "id": "JZ3rfZbr1Jwr"
      }
    },
    {
      "cell_type": "markdown",
      "source": [
        "## 03 Bag of Words - BOW"
      ],
      "metadata": {
        "id": "1ULp9UNQ1L-8"
      }
    },
    {
      "cell_type": "markdown",
      "source": [
        "문서가 가지는 모든 단어를 문맥이나 순서를 무시하고 일괄적으로 단어에 대해 빈도 값을 부여해 피처 값을 추출하는 모델"
      ],
      "metadata": {
        "id": "mZ3morAj115-"
      }
    },
    {
      "cell_type": "markdown",
      "source": [
        "1. 문장에 있는 모든 단어에서 중복 제거 -> 각 단어를 칼럼 형태로 나열 -> 각 단어에 고유의 인덱스 부여\n",
        "\n",
        "2. 개별 문장에서 해당 단어가 나타나는 횟수를 각 단어(단어 인덱스)에 기재\n",
        "\n",
        "- 장점\n",
        " - 쉽고 빠른 구축\n",
        " - 단순히 단어의 발생 횟수에 기반하고 있지만, 문서의 특징 잘 나타냄 -> 활용도 높다.\n",
        "- 단점\n",
        " - 문맥 의미 반영 부족 : 단어의 순서 고려x, 보완 위해 n_gram 기법 활용 가능하지만 제한적.\n",
        " - 희소 행렬 문제(희소성, 희소 행렬) : 희소 행렬의 데이터 세트가 만들어지기 쉽다.\n",
        " > 많은 문서에서 단어 추출 -> 많은 단어가 칼럼으로 -> 하나의 문서에 있는 단어는 극히 일부분 -> 대부분의 데이터는 0 값으로 채워짐\n",
        " > - `희소행렬` : 대규모의 칼럼으로 구서된 행렬에서 대부분의 값이 0으로 채워지는 행렬 ( 반대는 `밀집 행렬`)\n",
        " > - 일반적으로 ML 알고리즘의 수행 시간과 예측 성능 떨어뜨린다. -> 특별한 기법이 마련되어 있다."
      ],
      "metadata": {
        "id": "aUwqKy2R19K4"
      }
    },
    {
      "cell_type": "markdown",
      "source": [
        "### BOW 피처 벡터화"
      ],
      "metadata": {
        "id": "3UnW-y6H3RMs"
      }
    },
    {
      "cell_type": "markdown",
      "source": [
        "`피처 벡터화` : 텍스트를 특정 의미를 가지는 숫자형 값인 벡터 값으로 변환\n",
        "- 예\n",
        " - 각 문서에서 텍스트를 단어로 추출해 피처로 할당\n",
        " - 각 단어의 발생 빈도와 같은 값을 이 피처에 값으로 부여\n",
        " - 각 문서를 이 단어 치퍼츼 발생 빈도 값으로 구성된 벡터로 만드는 기법\n",
        "- 기존 텍스트 데이터를 또 다른 형태의 피ㅓ의 조합으로 변경하기 때문에 넓은 범위의 피처 추출에 포함된다.\n",
        "\n",
        "BOW 모델에서 피처 벡터화\n",
        "- 모든 문서에서 모든 단어를 칼럼 형태로 나열하고 각 문서에서 해당 단어의 횟수나 정규화된 빈도를 값으로 부여하는 데이터 세트 모델로 변경하는 것\n",
        "- 예 : M개 문서, N개 단어 -> MxN 행렬 구성\n",
        "- 두 가지 방식\n",
        " - `카운트 벡터화`\n",
        " >- 단어 피처에 값을 부여할 때 각 문서에서 해당 단어가 나타나는 횟수(Count)를 부여하는 경우\n",
        " >- 카운트 값이 높을수록 중요한 단어로 인식\n",
        " >- 언어의 특성상 문장에서 자주 사용될 수 밖에 없는 단어까지 높은 값으로 부여\n",
        " - -> 해결 : `TF-IDF 벡터화`\n",
        " >- 개별 문서에서 자주 나타나는 단어에 높은 가중치를 주되, 모든 문서에서 전반적으로 자주 나타나는 단어에 대해서는 페널티를 주는 방식으로 값 부여\n",
        " >- 문서마다 텍스트가 길고 문서의 개수가 많은 경우 카운트 방식보다는 TF-IDF 방식을 사용하는 것이 더 좋은 예측 성능 보장"
      ],
      "metadata": {
        "id": "6YlJFLTF3Yjy"
      }
    },
    {
      "cell_type": "markdown",
      "source": [
        "![image.png](data:image/png;base64,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)"
      ],
      "metadata": {
        "id": "vBuAlnwA6d5S"
      }
    },
    {
      "cell_type": "markdown",
      "source": [
        "### 사이킷런의 Count 및 TF-IDF 벡터화 구현 : CountVectorizer, TfidfVectorizer"
      ],
      "metadata": {
        "id": "mTh6lf_n6foP"
      }
    },
    {
      "cell_type": "markdown",
      "source": [
        "사이킷런의 CountVectorizer 클래스\n",
        "- 카운트 기반의 벡터화를 구현한 클래스\n",
        "- 단지 피처 벡터화만 수행하지 않으며 텍스트 전처리도 함께 수행\n",
        "- fit(), transform()을 통해 피처 벡터화된 객체 반환\n",
        "\n",
        "- 입력 파라미터\n",
        " - max_df : 전체 문서에 걸쳐서 너무 높은 빈도수를 가지는 단어 피처를 제외하기 위한 파라미터\n",
        " - min_df : 전체 문서에 걸쳐서 너무 낮은 빈도수를 가지는 단어 피처를 제외하기 위한 파라미터\n",
        " - max_features : 추출하는 피처의 개수를 제한. 정수로 값 지정.\n",
        " - stop_words : 'english'로 지정하면 영어의 스톱 워드로 지정된 단어는 추출에서 제외\n",
        " - n_gram_range : Bag of Words 모델의 단어 순서를 어느 정도 보장하기 위한 n_gram 범위 설정. 튜플 형태로 (범위 최솟값, 범위 최댓값) 지정\n",
        " - analyzer : 피처 추출을 수행한 단위 지정. 디폴트는 'word'\n",
        " - token_pattern : 토큰화를 수행하는 정규 표현식 패턴 지정. 디폴트 값은 '\\b\\w\\w+\\b'\n",
        " - tokenizer : 토큰화를 별도의 커스텀 함수로 이용시 적용\n",
        "\n",
        "CountVectorizer를 이용한피처 벡터화 방법\n",
        "1. 사전 데이터 가공\n",
        "- 모든 문자를 소문자로 변환하는 등의 사전 작업 수행.\n",
        "2. 토큰화\n",
        "- 디폴트로 단어 기준으로 n_gram_range를 반영해 토큰화 수행\n",
        "3. 텍스트 정규화\n",
        "- Stop Words 필터링만 수행.\n",
        "- Stemmer, Lemmatize는 CountVectorizer 자체에서는 지원x -> 함수 만들거나 외부 패키지로 미리 Text Normalization 수행 필요\n",
        "4. 피처 벡터화\n",
        "- max_df, min_df, max_features 등의 파라미터 반영해 토큰화된 단어를 피처로 추출하고 단어 빈도수 벡터 값 적용\n",
        "\n",
        "사이킷런에서 TF-IDF 벡터화는 TfidfVectorizer클래스 이용 -> 파라미터, 변환 방법은 동일"
      ],
      "metadata": {
        "id": "PszsJhJa6l2Z"
      }
    },
    {
      "cell_type": "markdown",
      "source": [
        "### BOW 벡터화를 위한 희소 행렬"
      ],
      "metadata": {
        "id": "0zbPT1919DNS"
      }
    },
    {
      "cell_type": "markdown",
      "source": [
        "모든 문서에 있는 단어를 추출해 이를 피처로 벡터화하는 방법은 필연적으로 많은 피처 칼럼 만들 수 밖에 없다\n",
        "\n",
        "\n",
        "BOW 형태를 가진 언어 모델의 피처 벡터화는 대부분 `희소 행렬`.\n",
        "- 메모리 공간 많이 필요\n",
        "- 데이터 액세스 위한 시간 많이 소모\n",
        "\n",
        "-> 희소 행렬을 물리적으로 적은 메모리 공간 차지할 수 있도록 변환\n",
        "\n",
        "대표적인 방법 => COO 형식, CSR 형식\n",
        "\n",
        "일반적으로 큰 희소 행렬을 저장하고 계산을 수행하는 능력이 CSR 형식이 더 뛰어나 CSR 많이 사용"
      ],
      "metadata": {
        "id": "ikCq2pFy9Bhh"
      }
    },
    {
      "cell_type": "markdown",
      "source": [
        "### 희소 행렬 - COO 형식\n",
        "COO 형식 : 0이 아닌 데이터만 별도의 데이터 배열에 저장하고, 그 데이터가 가르키는 행과 열의 위치를 별도의 배열로 저장하는 방식\n",
        "\n",
        "희소 행렬 변환 위해 주로 사이파이 이용. 사이파이의 sparse패키지."
      ],
      "metadata": {
        "id": "O1W2pGo99dT7"
      }
    },
    {
      "cell_type": "code",
      "source": [
        "import numpy as np\n",
        "\n",
        "dense = np.array([[3,0,1],[0,2,0]])"
      ],
      "metadata": {
        "id": "o5uCgiDz9rFB"
      },
      "execution_count": 9,
      "outputs": []
    },
    {
      "cell_type": "markdown",
      "source": [
        "사이파이의 coo_matrix클래스 이용해 COO 형식의 희소 행렬로 변환\n",
        "- 0이 아닌 데이터를 별도의 배열 데이터로 만들고, 행 위치 배열과 열 위치 배열을 각각 만든 후 생성 파라미터로 입력"
      ],
      "metadata": {
        "id": "KS9YK2ce9uXc"
      }
    },
    {
      "cell_type": "code",
      "source": [
        "from scipy import sparse\n",
        "\n",
        "# 0이 아닌 데이터 추출\n",
        "data = np.array([3,1,2])\n",
        "\n",
        "# 행 위치와 열 위치를 각각 배열로 생성\n",
        "row_pos = np.array([0,0,1])\n",
        "col_pos = np.array([0,2,1])\n",
        "\n",
        "# sparse 패키지의 coo_matrix를 이용해 COO 형식으로 희소 행렬 생성\n",
        "sparse_coo = sparse.coo_matrix((data, (row_pos, col_pos)))"
      ],
      "metadata": {
        "id": "gXTsgUU61LtC"
      },
      "execution_count": 10,
      "outputs": []
    },
    {
      "cell_type": "markdown",
      "source": [
        "- sparse_coo는 COO 형식의 희소 행렬 객체 변수\n",
        "- toarray() 메서드르 통해 밀집 형태로 출력해보자"
      ],
      "metadata": {
        "id": "0A4PFRhK94_Z"
      }
    },
    {
      "cell_type": "code",
      "source": [
        "# 다시 밀집 형태의 행렬로 출력\n",
        "sparse_coo.toarray()"
      ],
      "metadata": {
        "colab": {
          "base_uri": "https://localhost:8080/"
        },
        "id": "jQ4w4_zT9zxN",
        "outputId": "cb9b59d8-1ff3-4b57-f38d-da7e676c623d"
      },
      "execution_count": 11,
      "outputs": [
        {
          "output_type": "execute_result",
          "data": {
            "text/plain": [
              "array([[3, 0, 1],\n",
              "       [0, 2, 0]])"
            ]
          },
          "metadata": {},
          "execution_count": 11
        }
      ]
    },
    {
      "cell_type": "markdown",
      "source": [
        "### 희소 행렬 - CSR 형식"
      ],
      "metadata": {
        "id": "cYeIkvTG-ETQ"
      }
    },
    {
      "cell_type": "markdown",
      "source": [
        "Compressed Sparse Row의 약자\n",
        "\n",
        "COO 형식이 행과 열의 위치를 나타내기 위해서 반복적인 위치 데이터를 사용해야 하는 문제점 해결한 방식\n",
        "\n",
        "-> 행 위치 배열 내에 있는 고유한 값의 시작 위치만 다시 별도의 위치 배열로 가지는 변환 방식 의미\n",
        "\n",
        "- 행 위치 배열의 고유값 기작 인덱스 배열 + 총 항목 개수 배열\n",
        "\n",
        "고유값의 시작 위치만 알고 있으면 얼마든지 행 위치 배열을 다시 만들 수 있기에 COO 방식보다 메모리가 적게 들고 빠른 연산 가능\n",
        "\n",
        "사이파이의 csr_matrix클래스 이용해 CSR 형식의 희소 행렬로 변환\n",
        "- 0이 아닌 데이터 배열과 열 위치 배열, 그리고 행 위치 배열의 고유한 값의 시작 위치 배열을 생성 파라미터로 입력"
      ],
      "metadata": {
        "id": "IM_aIMSv-Gfn"
      }
    },
    {
      "cell_type": "code",
      "source": [
        "from scipy import sparse\n",
        "\n",
        "dense2 = np.array([[0,0,1,0,0,5],\n",
        "                   [1,4,0,3,2,5],\n",
        "                   [0,6,0,3,0,0],\n",
        "                   [2,0,0,0,0,0],\n",
        "                   [0,0,0,7,0,8],\n",
        "                   [1,0,0,0,0,0]])\n",
        "\n",
        "# 0이 아닌 데이터 추출\n",
        "data2 = np.array([1,5,1,4,3,2,5,6,3,2,7,8,1])\n",
        "\n",
        "# 행 위치와 열 위치를 각각 array로 생성\n",
        "row_pos = np.array([0,0,1,1,1,1,1,2,2,3,4,4,5])\n",
        "col_pos = np.array([2,5,0,1,3,4,5,1,3,0,3,5,0])\n",
        "\n",
        "# COO 형식으로 변환\n",
        "sparse_coo = sparse.coo_matrix((data2, (row_pos, col_pos)))\n",
        "\n",
        "# 행 위치 배열의 고유한 값의 시작 위치 인덱스를 배열로 생성\n",
        "row_pos_ind = np.array([0,2,7,9,10,12,13])\n",
        "\n",
        "# CSR 형식으로 변환\n",
        "sparse_csr = sparse.csr_matrix((data2, col_pos, row_pos_ind))\n",
        "\n",
        "print('COO 변환된 데이터가 제대로 되었는지 다시 dense로 출력 확인')\n",
        "print(sparse_coo.toarray())\n",
        "print('CSR 변환된 데이터가 제대로 되었는지 다시 dense로 출력 확인')\n",
        "print(sparse_csr.toarray())"
      ],
      "metadata": {
        "colab": {
          "base_uri": "https://localhost:8080/"
        },
        "id": "5eIK6RFO94IQ",
        "outputId": "a24a8a30-940a-45f1-bf34-ec5114aff905"
      },
      "execution_count": 12,
      "outputs": [
        {
          "output_type": "stream",
          "name": "stdout",
          "text": [
            "COO 변환된 데이터가 제대로 되었는지 다시 dense로 출력 확인\n",
            "[[0 0 1 0 0 5]\n",
            " [1 4 0 3 2 5]\n",
            " [0 6 0 3 0 0]\n",
            " [2 0 0 0 0 0]\n",
            " [0 0 0 7 0 8]\n",
            " [1 0 0 0 0 0]]\n",
            "CSR 변환된 데이터가 제대로 되었는지 다시 dense로 출력 확인\n",
            "[[0 0 1 0 0 5]\n",
            " [1 4 0 3 2 5]\n",
            " [0 6 0 3 0 0]\n",
            " [2 0 0 0 0 0]\n",
            " [0 0 0 7 0 8]\n",
            " [1 0 0 0 0 0]]\n"
          ]
        }
      ]
    },
    {
      "cell_type": "code",
      "source": [
        "# 밀집 행렬을 생성 파라미터로 입력하면 COO나 CSR 희소 행렬로 생성\n",
        "dense3 = np.array([[0,0,1,0,0,5],\n",
        "                   [1,4,0,3,2,5],\n",
        "                   [0,6,0,3,0,0],\n",
        "                   [2,0,0,0,0,0],\n",
        "                   [0,0,0,7,0,8],\n",
        "                   [1,0,0,0,0,0]])\n",
        "\n",
        "coo = sparse.coo_matrix(dense3)\n",
        "csr = sparse.csr_matrix(dense3)"
      ],
      "metadata": {
        "id": "YIav0D_O_c-w"
      },
      "execution_count": 13,
      "outputs": []
    }
  ]
}
