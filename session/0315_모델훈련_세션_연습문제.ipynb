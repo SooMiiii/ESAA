{
  "nbformat": 4,
  "nbformat_minor": 0,
  "metadata": {
    "colab": {
      "provenance": []
    },
    "kernelspec": {
      "name": "python3",
      "display_name": "Python 3"
    },
    "language_info": {
      "name": "python"
    }
  },
  "cells": [
    {
      "cell_type": "markdown",
      "source": [
        "## **| 모델 훈련 연습 문제**\n",
        "___\n",
        "- 출처 : 핸즈온 머신러닝 Ch04 연습문제 1, 5, 9, 10\n",
        "- 개념 문제의 경우 텍스트 셀을 추가하여 정답을 적어주세요."
      ],
      "metadata": {
        "id": "zCu72vDHGMHo"
      }
    },
    {
      "cell_type": "markdown",
      "source": [
        "### **1. 수백만 개의 특성을 가진 훈련 세트에서는 어떤 선형 회귀 알고리즘을 사용할 수 있을까요?**\n",
        "___\n"
      ],
      "metadata": {
        "id": "j3g-_Dq9GiuT"
      }
    },
    {
      "cell_type": "markdown",
      "source": [
        "확률적 경사 하강법(SGD), 미니배치 경사 하강법\n",
        "\n",
        "-> 한번에 모든 데이터를 사용하지 않기 때문에"
      ],
      "metadata": {
        "id": "S502_nK3YHW4"
      }
    },
    {
      "cell_type": "markdown",
      "source": [
        "### **2. 배치 경사 하강법을 사용하고 에포크마다 검증 오차를 그래프로 나타내봤습니다. 검증 오차가 일정하게 상승되고 있다면 어떤 일이 일어나고 있는 걸까요? 이 문제를 어떻게 해결할 수 있나요?**\n",
        "___"
      ],
      "metadata": {
        "id": "-pDjW5XcHPOt"
      }
    },
    {
      "cell_type": "markdown",
      "source": [
        "과대적합이 일어나고 있다.\n",
        "\n",
        "-> 해결 : 학습률 낮추기,훈련 멈추기"
      ],
      "metadata": {
        "id": "S0ZC1nyid7wu"
      }
    },
    {
      "cell_type": "markdown",
      "source": [
        "### **3. 릿지 회귀를 사용했을 때 훈련 오차가 검증 오차가 거의 비슷하고 둘 다 높았습니다. 이 모델에는 높은 편향이 문제인가요, 아니면 높은 분산이 문제인가요? 규제 하이퍼파라미터 $\\alpha$를 증가시켜야 할까요 아니면 줄여야 할까요?**\n",
        "___"
      ],
      "metadata": {
        "id": "nM7JbsLoy7b7"
      }
    },
    {
      "cell_type": "markdown",
      "source": [
        "두 오차가 모두 높다 -> 과소적합 -> 높은 편향이 문제 -> 알파 값을 낮춰야 한다.\n",
        "\n",
        "(알파값이 높을수록 더 강력한 규제가 적용)"
      ],
      "metadata": {
        "id": "0kuHLRjreR9p"
      }
    },
    {
      "cell_type": "markdown",
      "source": [
        "### **4. 다음과 같이 사용해야 하는 이유는?**\n",
        "___\n",
        "- 평범한 선형 회귀(즉, 아무런 규제가 없는 모델) 대신 릿지 회귀\n",
        "- 릿지 회귀 대신 라쏘 회귀\n",
        "- 라쏘 회귀 대신 엘라스틱넷"
      ],
      "metadata": {
        "id": "C8tARu-ZzOGx"
      }
    },
    {
      "cell_type": "markdown",
      "source": [
        "1. 성능 면에서 규제가 약간 있는 것이 대부분의 경우에 좋다.\n",
        "2. 쓰이는 특성이 몇 개 뿐이라고 의심되는 경우에 라쏘 회귀가 더 좋다.\n",
        "3. 특성 수가 훈련 샘플 수 보다 많거나 특성 몇 개가 강하게 연관되어 있을 때 라쏘가 문제를 일으키므로 엘라스틱넷을 사용한다."
      ],
      "metadata": {
        "id": "vL7vwgAZe6fq"
      }
    },
    {
      "cell_type": "markdown",
      "source": [
        "### **추가) 조기 종료를 사용한 배치 경사 하강법으로 iris 데이터를 활용해 소프트맥스 회귀를 구현해보세요(사이킷런은 사용하지 마세요)**\n",
        "\n",
        "\n",
        "---\n",
        "\n"
      ],
      "metadata": {
        "id": "QIZpOEYJVIAV"
      }
    },
    {
      "cell_type": "code",
      "source": [
        "import numpy as np\n",
        "import pandas as pd\n",
        "import matplotlib.pyplot as plt\n",
        "import random\n",
        "\n",
        "from sklearn.datasets import load_iris\n",
        "iris = load_iris()"
      ],
      "metadata": {
        "id": "8pXDQ_fU8Nz0"
      },
      "execution_count": 3,
      "outputs": []
    },
    {
      "cell_type": "code",
      "source": [
        "X = iris['data'][:, 3:] # 꽃잎의 너비\n",
        "y = (iris['target']).astype(int)"
      ],
      "metadata": {
        "id": "j5_cCP9SfTbL"
      },
      "execution_count": 121,
      "outputs": []
    },
    {
      "cell_type": "code",
      "source": [
        "# 편향 추가 (x0 = 1)\n",
        "X = np.c_[np.ones([len(X), 1]), X]"
      ],
      "metadata": {
        "id": "1U51x4Bzrhsp"
      },
      "execution_count": 122,
      "outputs": []
    },
    {
      "cell_type": "code",
      "source": [
        "# train/test/validation split\n",
        "train_ratio = 0.6\n",
        "test_ratio = 0.2\n",
        "val_ratio = 0.2\n",
        "\n",
        "indices = np.random.permutation(len(X)) # 0부터 len(X)까지의 숫자를 임의의 순서로 섞은 배열을 생성\n",
        "\n",
        "train_size = int(train_ratio * len(X))\n",
        "test_size = int(test_ratio * len(X))\n",
        "val_size = len(X) - train_size - test_size\n",
        "\n",
        "X_train = X[indices[:train_size]]\n",
        "X_test = X[indices[train_size:train_size + test_size]]\n",
        "X_val = X[indices[train_size + test_size:]]\n",
        "\n",
        "y_train = y[indices[:train_size]]\n",
        "y_test = y[indices[train_size:train_size + test_size]]\n",
        "y_val = y[indices[train_size + test_size:]]"
      ],
      "metadata": {
        "id": "Tq6lEP1GpNvt"
      },
      "execution_count": 123,
      "outputs": []
    },
    {
      "cell_type": "code",
      "source": [
        "# 원핫인코딩 함수 정의\n",
        "def one_hot(y):\n",
        "    n_classes = y.max() + 1\n",
        "    m = len(y)\n",
        "    one_hot_y = np.zeros((m, n_classes))\n",
        "    one_hot_y[np.arange(m), y] = 1\n",
        "    return one_hot_y"
      ],
      "metadata": {
        "id": "49FMlT6TiSRR"
      },
      "execution_count": 124,
      "outputs": []
    },
    {
      "cell_type": "code",
      "source": [
        "y_train_one_hot = one_hot(y_train)\n",
        "y_val_one_hot = one_hot(y_val)\n",
        "y_test_one_hot = one_hot(y_test)"
      ],
      "metadata": {
        "id": "c8RDaVW7i5_N"
      },
      "execution_count": 125,
      "outputs": []
    },
    {
      "cell_type": "code",
      "source": [
        "# softmax 함수 정의\n",
        "def softmax(logits):\n",
        "    exps = np.exp(logits)\n",
        "    exp_sums = np.sum(exps, axis=1, keepdims=True)\n",
        "    return exps / exp_sums"
      ],
      "metadata": {
        "id": "qyNYOAAoi57s"
      },
      "execution_count": 126,
      "outputs": []
    },
    {
      "cell_type": "code",
      "source": [
        "# 입/출력 개수 정의\n",
        "n_inputs = X_train.shape[1] # 2\n",
        "n_outputs = len(np.unique(y_train))   # == 3 (3개의 붓꽃 클래스)"
      ],
      "metadata": {
        "id": "uxKVOMJHi5vn"
      },
      "execution_count": 127,
      "outputs": []
    },
    {
      "cell_type": "code",
      "source": [
        "n_inputs"
      ],
      "metadata": {
        "colab": {
          "base_uri": "https://localhost:8080/"
        },
        "id": "R4nFXjTnr9A_",
        "outputId": "1f9a55a7-2fdf-4013-806d-129fc4417201"
      },
      "execution_count": 128,
      "outputs": [
        {
          "output_type": "execute_result",
          "data": {
            "text/plain": [
              "2"
            ]
          },
          "metadata": {},
          "execution_count": 128
        }
      ]
    },
    {
      "cell_type": "code",
      "source": [
        "lr = 0.05\n",
        "n = 5001 # 반복 횟수\n",
        "m = len(X_train) # 샘플 수\n",
        "epsilon = 1e-7 # 로그 함수의 값이 0이 되는 것을 방지하기 위한 아주 작은 값\n",
        "best_loss = np.infty\n",
        "\n",
        "Theta = np.random.randn(n_inputs, n_outputs) # 가중치 행렬 -> 입력 피처와 출력 클래스 간의 관계를 나타낸다.\n",
        "\n",
        "for iteration in range(n):\n",
        "    logits = X_train.dot(Theta) # 각 클래스에 대한 점수\n",
        "    y_proba = softmax(logits) # 소프트맥스 : 로짓 -> 확률\n",
        "    if iteration % 500 == 0:\n",
        "        loss = -np.mean(np.sum(y_train_one_hot * np.log(y_proba + epsilon), axis=1))\n",
        "        print(iteration, loss)\n",
        "    error = y_proba - y_train_one_hot\n",
        "    gradients = 1/m * X_train.T.dot(error)\n",
        "    Theta = Theta - lr * gradients # 파라미터 업데이트"
      ],
      "metadata": {
        "colab": {
          "base_uri": "https://localhost:8080/"
        },
        "id": "kWesJi1dj9C7",
        "outputId": "fe56d885-4d9f-4e74-8ad4-68aadbc9249b"
      },
      "execution_count": 138,
      "outputs": [
        {
          "output_type": "stream",
          "name": "stdout",
          "text": [
            "0 2.284134622685217\n",
            "500 0.621889213976295\n",
            "1000 0.47427012933732127\n",
            "1500 0.4078460355312617\n",
            "2000 0.36605790958463436\n",
            "2500 0.3363410471535851\n",
            "3000 0.31385438727370063\n",
            "3500 0.2961663056473354\n",
            "4000 0.2818657502075406\n",
            "4500 0.27005921351720047\n",
            "5000 0.2601470072467537\n"
          ]
        }
      ]
    },
    {
      "cell_type": "code",
      "source": [
        "Theta # 모델 파라미터 확인"
      ],
      "metadata": {
        "colab": {
          "base_uri": "https://localhost:8080/"
        },
        "id": "iXfOn_Gvk-KP",
        "outputId": "e3958c87-47ce-4c03-8581-5744b75131e8"
      },
      "execution_count": 135,
      "outputs": [
        {
          "output_type": "execute_result",
          "data": {
            "text/plain": [
              "array([[ 5.41199098,  1.42803057, -5.59659277],\n",
              "       [-5.88056225, -0.05044581,  4.28896622]])"
            ]
          },
          "metadata": {},
          "execution_count": 135
        }
      ]
    },
    {
      "cell_type": "code",
      "source": [
        "logits = X_val.dot(Theta)\n",
        "y_proba = softmax(logits)\n",
        "y_predict = np.argmax(y_proba, axis=1)\n",
        "\n",
        "accuracy_score = np.mean(y_predict == y_val)\n",
        "accuracy_score"
      ],
      "metadata": {
        "colab": {
          "base_uri": "https://localhost:8080/"
        },
        "id": "rbJT6XGSlo_S",
        "outputId": "776fb2e6-0b24-43eb-df53-1b0808136355"
      },
      "execution_count": 136,
      "outputs": [
        {
          "output_type": "execute_result",
          "data": {
            "text/plain": [
              "0.9666666666666667"
            ]
          },
          "metadata": {},
          "execution_count": 136
        }
      ]
    },
    {
      "cell_type": "code",
      "source": [
        "y_predict"
      ],
      "metadata": {
        "colab": {
          "base_uri": "https://localhost:8080/"
        },
        "id": "adHc3he8olyd",
        "outputId": "15569ab1-45c0-4b7c-865a-924b5e26d867"
      },
      "execution_count": 137,
      "outputs": [
        {
          "output_type": "execute_result",
          "data": {
            "text/plain": [
              "array([0, 2, 0, 2, 2, 0, 2, 2, 1, 0, 2, 1, 0, 2, 1, 1, 2, 1, 0, 1, 1, 0,\n",
              "       0, 0, 1, 0, 1, 0, 0, 1])"
            ]
          },
          "metadata": {},
          "execution_count": 137
        }
      ]
    },
    {
      "cell_type": "markdown",
      "source": [
        "편향을 추가하지 않으면 class 2로만 예측한다."
      ],
      "metadata": {
        "id": "zMaMIhKAsE5h"
      }
    },
    {
      "cell_type": "code",
      "source": [
        "# 조기 종료 코드\n",
        "#     if loss < best_loss:\n",
        "#         best_loss = loss\n",
        "#     else:\n",
        "#         print(iteration - 1, best_loss)\n",
        "#         print(iteration, loss, \"조기 종료!\")\n",
        "#         break"
      ],
      "metadata": {
        "id": "gySYFtkKtv2F"
      },
      "execution_count": 143,
      "outputs": []
    }
  ]
}