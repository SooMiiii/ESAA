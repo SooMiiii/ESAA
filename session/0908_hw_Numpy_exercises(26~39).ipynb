{
  "nbformat": 4,
  "nbformat_minor": 5,
  "metadata": {
    "colab": {
      "provenance": [],
      "include_colab_link": true
    },
    "language_info": {
      "name": "python"
    },
    "kernelspec": {
      "name": "python3",
      "display_name": "Python 3"
    }
  },
  "cells": [
    {
      "cell_type": "markdown",
      "metadata": {
        "id": "view-in-github",
        "colab_type": "text"
      },
      "source": [
        "<a href=\"https://colab.research.google.com/github/SooMiiii/23-2-ESAA/blob/main/0908_hw_Numpy_exercises(26~39).ipynb\" target=\"_parent\"><img src=\"https://colab.research.google.com/assets/colab-badge.svg\" alt=\"Open In Colab\"/></a>"
      ]
    },
    {
      "cell_type": "markdown",
      "metadata": {
        "id": "bf79c78b"
      },
      "source": [
        "# Numpy exercises\n",
        "\n",
        "This is a collection of exercises that have been collected in the numpy mailing list, on stack overflow\n",
        "and in the numpy documentation. The goal of this collection is to offer a quick reference for both old\n",
        "and new users but also to provide a set of exercises for those who teach.\n",
        "\n",
        "\n",
        "If you find an error or think you've a better way to solve some of them, feel\n",
        "free to open an issue at <https://github.com/rougier/numpy-100>."
      ],
      "id": "bf79c78b"
    },
    {
      "cell_type": "markdown",
      "metadata": {
        "id": "8536e059"
      },
      "source": [
        "File automatically generated. See the documentation to update questions/answers/hints programmatically."
      ],
      "id": "8536e059"
    },
    {
      "cell_type": "code",
      "metadata": {
        "id": "68182a76"
      },
      "source": [
        "import numpy as np"
      ],
      "id": "68182a76",
      "execution_count": 1,
      "outputs": []
    },
    {
      "cell_type": "markdown",
      "metadata": {
        "id": "f1ae2c2d"
      },
      "source": [
        "#### 26. How to find common values between two arrays? (★☆☆)\n",
        "```python\n",
        "Z1 = np.random.randint(0,10,10)\n",
        "Z2 = np.random.randint(0,10,10)\n",
        "```\n",
        "Hint : use `numpy.random.randint(start, end, size)`"
      ],
      "id": "f1ae2c2d"
    },
    {
      "cell_type": "code",
      "source": [
        "Z1 = np.random.randint(0,10,10)\n",
        "Z2 = np.random.randint(0,10,10)"
      ],
      "metadata": {
        "id": "KOZnWrLxZVi3"
      },
      "id": "KOZnWrLxZVi3",
      "execution_count": 5,
      "outputs": []
    },
    {
      "cell_type": "code",
      "metadata": {
        "id": "6801c73d",
        "colab": {
          "base_uri": "https://localhost:8080/"
        },
        "outputId": "68d09123-c18e-4550-d73b-56f20e638f0f"
      },
      "source": [
        "common_values = Z1[np.isin(Z1, Z2)]\n",
        "print(common_values)"
      ],
      "id": "6801c73d",
      "execution_count": 6,
      "outputs": [
        {
          "output_type": "stream",
          "name": "stdout",
          "text": [
            "[7 5 5 9 5]\n"
          ]
        }
      ]
    },
    {
      "cell_type": "markdown",
      "metadata": {
        "id": "37bc0973"
      },
      "source": [
        "#### 27. Is the following expressions true? (★☆☆)\n",
        "```python\n",
        "np.sqrt(-1) == np.emath.sqrt(-1)\n",
        "```"
      ],
      "id": "37bc0973"
    },
    {
      "cell_type": "code",
      "metadata": {
        "id": "c70cbabe"
      },
      "source": [
        "# np.sqrt(-1) == np.emath.sqrt(-1)\n",
        "# False"
      ],
      "id": "c70cbabe",
      "execution_count": 10,
      "outputs": []
    },
    {
      "cell_type": "markdown",
      "metadata": {
        "id": "42f8b2f9"
      },
      "source": [
        "#### 28. How to get all the dates corresponding to the month of July 2016? (★★☆)\n",
        "Hint : modify the code below\n",
        "```python\n",
        "Z = np.arange('start', 'end', dtype='datetime64[D]')\n",
        "```"
      ],
      "id": "42f8b2f9"
    },
    {
      "cell_type": "code",
      "source": [
        "Z = np.arange('2016-07-01', '2016-08-01', dtype='datetime64[D]')\n",
        "Z"
      ],
      "metadata": {
        "id": "3kkl01x3x0NF",
        "colab": {
          "base_uri": "https://localhost:8080/"
        },
        "outputId": "4dc1bca5-bb11-4e06-c0b2-bb29e36c267b"
      },
      "id": "3kkl01x3x0NF",
      "execution_count": 12,
      "outputs": [
        {
          "output_type": "execute_result",
          "data": {
            "text/plain": [
              "array(['2016-07-01', '2016-07-02', '2016-07-03', '2016-07-04',\n",
              "       '2016-07-05', '2016-07-06', '2016-07-07', '2016-07-08',\n",
              "       '2016-07-09', '2016-07-10', '2016-07-11', '2016-07-12',\n",
              "       '2016-07-13', '2016-07-14', '2016-07-15', '2016-07-16',\n",
              "       '2016-07-17', '2016-07-18', '2016-07-19', '2016-07-20',\n",
              "       '2016-07-21', '2016-07-22', '2016-07-23', '2016-07-24',\n",
              "       '2016-07-25', '2016-07-26', '2016-07-27', '2016-07-28',\n",
              "       '2016-07-29', '2016-07-30', '2016-07-31'], dtype='datetime64[D]')"
            ]
          },
          "metadata": {},
          "execution_count": 12
        }
      ]
    },
    {
      "cell_type": "markdown",
      "metadata": {
        "id": "252c43e2"
      },
      "source": [
        "#### 29. How to compute ((A+B)*(-A/2)) in place (without copy)? (★★☆)\n",
        "Hint : use `numpy.add`, `numpy.divide`,`numpy.negative`, `numpy.multiply` and parameter `out` of the funtions"
      ],
      "id": "252c43e2"
    },
    {
      "cell_type": "code",
      "source": [
        "A = np.random.random(3)\n",
        "B = np.random.random(3)\n",
        "\n",
        "result = np.empty_like(A)\n",
        "\n",
        "np.add(A, B, out=result)\n",
        "np.negative(A, out=result)\n",
        "np.divide(result, 2, out=result)\n",
        "np.multiply(result, -1, out=result)\n",
        "\n",
        "print(result)"
      ],
      "metadata": {
        "colab": {
          "base_uri": "https://localhost:8080/"
        },
        "id": "qT0AN4GJaWxF",
        "outputId": "2e804488-b7b2-4419-ff9f-dfc1f934691d"
      },
      "id": "qT0AN4GJaWxF",
      "execution_count": 15,
      "outputs": [
        {
          "output_type": "stream",
          "name": "stdout",
          "text": [
            "[0.26940337 0.15988253 0.33809324]\n"
          ]
        }
      ]
    },
    {
      "cell_type": "markdown",
      "metadata": {
        "id": "486df8ea"
      },
      "source": [
        "#### 30. Extract the integer part of a random array of positive numbers using 2 different methods (★★☆)\n",
        "Hint : `%`, `//`"
      ],
      "id": "486df8ea"
    },
    {
      "cell_type": "code",
      "source": [
        "a = np.random.uniform(0, 10, 10)\n",
        "a - (a % 1 )"
      ],
      "metadata": {
        "colab": {
          "base_uri": "https://localhost:8080/"
        },
        "id": "Nw5-2uTSaqmo",
        "outputId": "35a738be-f0ca-4311-dfe2-1e62da248447"
      },
      "id": "Nw5-2uTSaqmo",
      "execution_count": 24,
      "outputs": [
        {
          "output_type": "execute_result",
          "data": {
            "text/plain": [
              "array([5., 2., 1., 9., 6., 4., 5., 9., 0., 0.])"
            ]
          },
          "metadata": {},
          "execution_count": 24
        }
      ]
    },
    {
      "cell_type": "code",
      "metadata": {
        "id": "34b4fa08",
        "colab": {
          "base_uri": "https://localhost:8080/"
        },
        "outputId": "00d67792-aecd-45a5-83d3-363a5b236e61"
      },
      "source": [
        "a // 1"
      ],
      "id": "34b4fa08",
      "execution_count": 25,
      "outputs": [
        {
          "output_type": "execute_result",
          "data": {
            "text/plain": [
              "array([5., 2., 1., 9., 6., 4., 5., 9., 0., 0.])"
            ]
          },
          "metadata": {},
          "execution_count": 25
        }
      ]
    },
    {
      "cell_type": "markdown",
      "metadata": {
        "id": "649e89f9"
      },
      "source": [
        "#### 31. Create a 5x5 matrix with row values ranging from 0 to 4 (★★☆)"
      ],
      "id": "649e89f9"
    },
    {
      "cell_type": "code",
      "metadata": {
        "id": "663cc611",
        "colab": {
          "base_uri": "https://localhost:8080/"
        },
        "outputId": "b6df4151-c8e1-47d9-ea27-b64dd0a142fa"
      },
      "source": [
        "a = np.random.uniform(0, 4, (5,5))\n",
        "a"
      ],
      "id": "663cc611",
      "execution_count": 27,
      "outputs": [
        {
          "output_type": "execute_result",
          "data": {
            "text/plain": [
              "array([[2.56807618, 1.4218856 , 2.15955398, 1.43222715, 0.18496334],\n",
              "       [2.9647864 , 3.54805223, 0.46882487, 0.59159755, 0.31409385],\n",
              "       [3.13994276, 0.35496269, 0.26742014, 2.05546645, 1.7053715 ],\n",
              "       [2.7458681 , 3.7775434 , 3.84755914, 0.29577996, 0.04165298],\n",
              "       [0.90086438, 0.69821586, 2.76325303, 0.99860638, 2.24735649]])"
            ]
          },
          "metadata": {},
          "execution_count": 27
        }
      ]
    },
    {
      "cell_type": "markdown",
      "metadata": {
        "id": "2d07be1c"
      },
      "source": [
        "#### 32. Create a random vector of size 10 and sort it (★★☆)"
      ],
      "id": "2d07be1c"
    },
    {
      "cell_type": "code",
      "metadata": {
        "id": "4f7cb3ad",
        "colab": {
          "base_uri": "https://localhost:8080/"
        },
        "outputId": "f1561f3e-af45-4c21-ec48-6e14cc2d50e8"
      },
      "source": [
        "np.sort(np.random.rand(10))"
      ],
      "id": "4f7cb3ad",
      "execution_count": 29,
      "outputs": [
        {
          "output_type": "execute_result",
          "data": {
            "text/plain": [
              "array([0.24368916, 0.255573  , 0.31317406, 0.31562125, 0.32850294,\n",
              "       0.35646825, 0.67802423, 0.68333335, 0.72964889, 0.81925154])"
            ]
          },
          "metadata": {},
          "execution_count": 29
        }
      ]
    },
    {
      "cell_type": "markdown",
      "metadata": {
        "id": "fe043549"
      },
      "source": [
        "#### 33. Consider two random array A and B, check if they are equal (★★☆)\n",
        "```python\n",
        "A = np.random.randint(0,2,5)\n",
        "B = np.random.randint(0,2,5)\n",
        "```\n",
        "Hint : Use `numpy.array_equal()`"
      ],
      "id": "fe043549"
    },
    {
      "cell_type": "code",
      "metadata": {
        "id": "3326a686",
        "colab": {
          "base_uri": "https://localhost:8080/"
        },
        "outputId": "4e251485-cf53-49c0-f4c9-3fe178365af3"
      },
      "source": [
        "A = np.random.randint(0,2,5)\n",
        "B = np.random.randint(0,2,5)\n",
        "np.array_equal(A,B)"
      ],
      "id": "3326a686",
      "execution_count": 30,
      "outputs": [
        {
          "output_type": "execute_result",
          "data": {
            "text/plain": [
              "False"
            ]
          },
          "metadata": {},
          "execution_count": 30
        }
      ]
    },
    {
      "cell_type": "markdown",
      "metadata": {
        "id": "2002cb03"
      },
      "source": [
        "#### 34. Consider a random 10x2 matrix representing cartesian coordinates, convert them to polar coordinates (★★☆)\n",
        "Hint 1 : Note that cartesian coodinate **(x, y)** can be represented as  polar coordinates **(distance from origin to (x,y), angle from the x-axis)**\n",
        "\n",
        "Hint 2 : Use `numpy.sqrt` and `numpy.arctan2`"
      ],
      "id": "2002cb03"
    },
    {
      "cell_type": "code",
      "metadata": {
        "id": "58be72bc",
        "colab": {
          "base_uri": "https://localhost:8080/"
        },
        "outputId": "811e1f88-9b55-427b-d2de-e8b7c9a229ed"
      },
      "source": [
        "a = np.random.rand(10, 2)\n",
        "\n",
        "x = a[:, 0]\n",
        "y = a[:, 1]\n",
        "\n",
        "distance = np.sqrt(x**2 + y**2)\n",
        "angle = np.arctan2(y, x)\n",
        "\n",
        "polar_coordinates = np.column_stack((distance, angle))\n",
        "\n",
        "print(a)\n",
        "print(polar_coordinates)"
      ],
      "id": "58be72bc",
      "execution_count": 31,
      "outputs": [
        {
          "output_type": "stream",
          "name": "stdout",
          "text": [
            "[[0.89021651 0.55559232]\n",
            " [0.44939458 0.32627899]\n",
            " [0.30028402 0.124982  ]\n",
            " [0.07445158 0.3435104 ]\n",
            " [0.51267216 0.22162162]\n",
            " [0.21714291 0.13388208]\n",
            " [0.67121217 0.97132846]\n",
            " [0.10000887 0.71019556]\n",
            " [0.7697776  0.17409464]\n",
            " [0.97898242 0.15109029]]\n",
            "[[1.04936564 0.55795849]\n",
            " [0.55534986 0.62799034]\n",
            " [0.32525527 0.39440418]\n",
            " [0.35148603 1.35736005]\n",
            " [0.55852385 0.40802676]\n",
            " [0.25509891 0.55250855]\n",
            " [1.18067978 0.96611934]\n",
            " [0.71720256 1.43089744]\n",
            " [0.78921892 0.22242042]\n",
            " [0.990573   0.15312588]]\n"
          ]
        }
      ]
    },
    {
      "cell_type": "markdown",
      "metadata": {
        "id": "b7109c9f"
      },
      "source": [
        "#### 35. Create random vector Z of size 10 and replace the maximum value by 0 (★★☆)\n",
        "Hint : We can see the index of maximum value using `Z.argmax()`"
      ],
      "id": "b7109c9f"
    },
    {
      "cell_type": "code",
      "metadata": {
        "id": "f79e79a7",
        "colab": {
          "base_uri": "https://localhost:8080/"
        },
        "outputId": "e4e355f7-568a-4cd1-b209-826aa7fb5fe4"
      },
      "source": [
        "z = np.random.rand(10)\n",
        "z[z.argmax()]=0\n",
        "z"
      ],
      "id": "f79e79a7",
      "execution_count": 32,
      "outputs": [
        {
          "output_type": "execute_result",
          "data": {
            "text/plain": [
              "array([0.        , 0.05263716, 0.04304139, 0.00270519, 0.51141167,\n",
              "       0.6336702 , 0.12768856, 0.18827729, 0.26657805, 0.15919145])"
            ]
          },
          "metadata": {},
          "execution_count": 32
        }
      ]
    },
    {
      "cell_type": "markdown",
      "metadata": {
        "id": "e6e1ae2f"
      },
      "source": [
        "#### 36. How to find the closest value (to a given scalar v) in a vector Z? (★★☆)\n",
        "```python\n",
        "Z = np.arange(100)\n",
        "v = np.random.uniform(0,100)\n",
        "```\n",
        "Hint : Coumpute the distances between the each elements of Z and the scalar v. After that, we can see the index of minimum value using `argmin()`.  "
      ],
      "id": "e6e1ae2f"
    },
    {
      "cell_type": "code",
      "source": [
        "Z = np.random.rand(5)\n",
        "v = 5\n",
        "Z[np.abs(Z - v).argmin()]"
      ],
      "metadata": {
        "id": "QkQ2Mii77FrE",
        "colab": {
          "base_uri": "https://localhost:8080/"
        },
        "outputId": "ffc9790b-4ed9-4c0f-a295-1512d4bc96ec"
      },
      "id": "QkQ2Mii77FrE",
      "execution_count": 33,
      "outputs": [
        {
          "output_type": "execute_result",
          "data": {
            "text/plain": [
              "0.7979431042231293"
            ]
          },
          "metadata": {},
          "execution_count": 33
        }
      ]
    },
    {
      "cell_type": "markdown",
      "metadata": {
        "id": "f98713a6"
      },
      "source": [
        "#### 37. What is the equivalent of enumerate for numpy arrays? (★★☆)\n",
        "Hint : Use `numpy.ndenumerate()`or `numpy.ndindex()`\n",
        "\n",
        "Example of the output :\n",
        "```python\n",
        "Z = np.arange(9).reshape(3,3)\n",
        "```\n",
        "```python\n",
        "# output\n",
        "(0, 0) 0\n",
        "(0, 1) 1\n",
        "(0, 2) 2\n",
        "(1, 0) 3\n",
        "(1, 1) 4\n",
        "(1, 2) 5\n",
        "(2, 0) 6\n",
        "(2, 1) 7\n",
        "(2, 2) 8\n",
        "```"
      ],
      "id": "f98713a6"
    },
    {
      "cell_type": "code",
      "metadata": {
        "id": "64795f84",
        "colab": {
          "base_uri": "https://localhost:8080/"
        },
        "outputId": "d6144e09-162e-4355-bba4-f6829bc0f19e"
      },
      "source": [
        "Z = np.arange(9).reshape(3, 3)\n",
        "\n",
        "for index, value in np.ndenumerate(Z):\n",
        "    print(index, value)"
      ],
      "id": "64795f84",
      "execution_count": 34,
      "outputs": [
        {
          "output_type": "stream",
          "name": "stdout",
          "text": [
            "(0, 0) 0\n",
            "(0, 1) 1\n",
            "(0, 2) 2\n",
            "(1, 0) 3\n",
            "(1, 1) 4\n",
            "(1, 2) 5\n",
            "(2, 0) 6\n",
            "(2, 1) 7\n",
            "(2, 2) 8\n"
          ]
        }
      ]
    },
    {
      "cell_type": "markdown",
      "metadata": {
        "id": "0cf413ee"
      },
      "source": [
        "#### 38. How to randomly place p elements in a 2D array? (★★☆)\n",
        "Hint : modify the code below\n",
        "```python\n",
        "n = 'size of a 2D array'\n",
        "p = 'the number of elements that you want to place'\n",
        "Z = np.zeros((n,n))\n",
        "np.put(Z, np.random.choice(range(n*n), p, replace = False),'value that you want to place')\n",
        "print(Z)\n",
        "```"
      ],
      "id": "0cf413ee"
    },
    {
      "cell_type": "code",
      "metadata": {
        "id": "dfc57e06",
        "colab": {
          "base_uri": "https://localhost:8080/"
        },
        "outputId": "9e3963f0-a22e-4474-9167-67969eb4c8f5"
      },
      "source": [
        "n = 5\n",
        "p = 7\n",
        "value = 10\n",
        "\n",
        "Z = np.zeros((n, n))\n",
        "indices = np.random.choice(range(n * n), p, replace=False)\n",
        "coordinates = np.unravel_index(indices, (n, n))\n",
        "Z[coordinates] = value\n",
        "Z"
      ],
      "id": "dfc57e06",
      "execution_count": 35,
      "outputs": [
        {
          "output_type": "execute_result",
          "data": {
            "text/plain": [
              "array([[ 0., 10.,  0.,  0., 10.],\n",
              "       [ 0.,  0.,  0.,  0.,  0.],\n",
              "       [ 0.,  0., 10.,  0., 10.],\n",
              "       [ 0., 10.,  0., 10.,  0.],\n",
              "       [ 0., 10.,  0.,  0.,  0.]])"
            ]
          },
          "metadata": {},
          "execution_count": 35
        }
      ]
    },
    {
      "cell_type": "markdown",
      "metadata": {
        "id": "c0cf37e0"
      },
      "source": [
        "#### 39. How to sort an array below by the nth column? (★★☆)\n",
        "```python\n",
        "Z = np.random.randint(0,10,(3,3))\n",
        "```"
      ],
      "id": "c0cf37e0"
    },
    {
      "cell_type": "code",
      "source": [
        "Z = np.random.randint(0, 10, (3, 3))"
      ],
      "metadata": {
        "id": "RqOuFPvChmND"
      },
      "id": "RqOuFPvChmND",
      "execution_count": 36,
      "outputs": []
    },
    {
      "cell_type": "code",
      "metadata": {
        "id": "9336ca5f",
        "colab": {
          "base_uri": "https://localhost:8080/"
        },
        "outputId": "456bd6a8-b59d-4afc-97ac-5556bf7a4366"
      },
      "source": [
        "# column 1\n",
        "Z[Z[:,0].argsort()]"
      ],
      "id": "9336ca5f",
      "execution_count": 37,
      "outputs": [
        {
          "output_type": "execute_result",
          "data": {
            "text/plain": [
              "array([[2, 2, 3],\n",
              "       [5, 5, 4],\n",
              "       [7, 5, 0]])"
            ]
          },
          "metadata": {},
          "execution_count": 37
        }
      ]
    },
    {
      "cell_type": "code",
      "source": [
        "# column 2\n",
        "Z[Z[:,1].argsort()]"
      ],
      "metadata": {
        "id": "0hZzZ6tn2K6V",
        "colab": {
          "base_uri": "https://localhost:8080/"
        },
        "outputId": "b132c112-feef-4151-9aa1-1a17ea291e22"
      },
      "id": "0hZzZ6tn2K6V",
      "execution_count": 38,
      "outputs": [
        {
          "output_type": "execute_result",
          "data": {
            "text/plain": [
              "array([[2, 2, 3],\n",
              "       [5, 5, 4],\n",
              "       [7, 5, 0]])"
            ]
          },
          "metadata": {},
          "execution_count": 38
        }
      ]
    },
    {
      "cell_type": "code",
      "source": [
        "# column 3\n",
        "Z[Z[:,2].argsort()]"
      ],
      "metadata": {
        "id": "z4zqQXvt2NaB",
        "colab": {
          "base_uri": "https://localhost:8080/"
        },
        "outputId": "96a82088-aff7-4a0c-b563-ef4463a25573"
      },
      "id": "z4zqQXvt2NaB",
      "execution_count": 39,
      "outputs": [
        {
          "output_type": "execute_result",
          "data": {
            "text/plain": [
              "array([[7, 5, 0],\n",
              "       [2, 2, 3],\n",
              "       [5, 5, 4]])"
            ]
          },
          "metadata": {},
          "execution_count": 39
        }
      ]
    }
  ]
}