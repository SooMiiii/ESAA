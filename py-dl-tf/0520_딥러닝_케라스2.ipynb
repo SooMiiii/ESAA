{
  "nbformat": 4,
  "nbformat_minor": 0,
  "metadata": {
    "colab": {
      "provenance": [],
      "authorship_tag": "ABX9TyObFyvKdRcWa2bsjX5L+iUU"
    },
    "kernelspec": {
      "name": "python3",
      "display_name": "Python 3"
    },
    "language_info": {
      "name": "python"
    }
  },
  "cells": [
    {
      "cell_type": "markdown",
      "source": [
        "파이썬 딥러닝 텐서플로 ch3.4, 6 ~ 7 87p ~ 95p, 105p ~115p\n",
        "\n",
        "---"
      ],
      "metadata": {
        "id": "tQrUM_VoxKET"
      }
    },
    {
      "cell_type": "markdown",
      "source": [
        "## 04 모델 세부 설정"
      ],
      "metadata": {
        "id": "O80utGnGxePR"
      }
    },
    {
      "cell_type": "code",
      "execution_count": 1,
      "metadata": {
        "colab": {
          "base_uri": "https://localhost:8080/"
        },
        "id": "08xsyNeTwx3H",
        "outputId": "a59dbfe7-7895-4593-bf89-b180400d32ee"
      },
      "outputs": [
        {
          "output_type": "stream",
          "name": "stdout",
          "text": [
            "Downloading data from https://storage.googleapis.com/tensorflow/tf-keras-datasets/mnist.npz\n",
            "11490434/11490434 [==============================] - 0s 0us/step\n",
            "train set: (60000, 28, 28) (60000,)\n",
            "test set: (10000, 28, 28) (10000,)\n"
          ]
        }
      ],
      "source": [
        "import tensorflow as tf\n",
        "\n",
        "# 케라스의 내장 데이터셋에서 mnist 데이터 로드\n",
        "mnist=tf.keras.datasets.mnist\n",
        "\n",
        "# load_data()로 데이터 로드\n",
        "(x_train, y_train), (x_test, y_test)=mnist.load_data()\n",
        "\n",
        "# 로드된 데이터셋 확인\n",
        "print('train set:', x_train.shape, y_train.shape)\n",
        "print('test set:', x_test.shape, y_test.shape)\n",
        "\n",
        "# 데이터 정규화\n",
        "x_train=x_train/x_train.max()\n",
        "x_test=x_test/x_test.max()"
      ]
    },
    {
      "cell_type": "markdown",
      "source": [
        "### 4-1 초기값 설정\n",
        "- Dense 레이어는 기본 초기화 방법으로 `Glorot Uniform` 초기화 방법 설정"
      ],
      "metadata": {
        "id": "gDsxEttqxsWT"
      }
    },
    {
      "cell_type": "code",
      "source": [
        "dense=tf.keras.layers.Dense(256, activation='relu')\n",
        "dense.get_config()['kernel_initializer']"
      ],
      "metadata": {
        "colab": {
          "base_uri": "https://localhost:8080/"
        },
        "id": "QZuz2HhFxpcx",
        "outputId": "476de589-a7b4-49e5-e266-52fe50770d89"
      },
      "execution_count": 2,
      "outputs": [
        {
          "output_type": "execute_result",
          "data": {
            "text/plain": [
              "{'module': 'keras.initializers',\n",
              " 'class_name': 'GlorotUniform',\n",
              " 'config': {'seed': None},\n",
              " 'registered_name': None}"
            ]
          },
          "metadata": {},
          "execution_count": 2
        }
      ]
    },
    {
      "cell_type": "markdown",
      "source": [
        "- 초기화 방법을 HeNormal로 변경하기 위해서는 `kernel_initializer` 매개변수에 설정\n",
        " - 문자열로 지정하는 방법, 클래스 인스턴스로 지정하는 방법이 있음.\n",
        "\n"
      ],
      "metadata": {
        "id": "DBwTxGlWx0x2"
      }
    },
    {
      "cell_type": "code",
      "source": [
        "# 문자열 초기화\n",
        "dense = tf.keras.layers.Dense(256, kernel_initializer='he_normal', activation='relu')\n",
        "print(dense.get_config()['kernel_initializer'])\n",
        "\n",
        "# 클래스 인스턴스 초기화\n",
        "he_normal = tf.keras.initializers.HeNormal()\n",
        "dense = tf.keras.layers.Dense(256, kernel_initializer = he_normal, activation='relu')\n",
        "print(dense.get_config()['kernel_initializer'])"
      ],
      "metadata": {
        "colab": {
          "base_uri": "https://localhost:8080/"
        },
        "id": "4cXroFC6xydE",
        "outputId": "a27eb90b-585f-4df9-bd2c-f235ff96c31a"
      },
      "execution_count": 3,
      "outputs": [
        {
          "output_type": "stream",
          "name": "stdout",
          "text": [
            "{'module': 'keras.initializers', 'class_name': 'HeNormal', 'config': {'seed': None}, 'registered_name': None}\n",
            "{'module': 'keras.initializers', 'class_name': 'HeNormal', 'config': {'seed': None}, 'registered_name': None}\n"
          ]
        }
      ]
    },
    {
      "cell_type": "markdown",
      "source": [
        "케라스에서 지원하는 초기화 목록\n",
        "- glorot_normal, glorot_uniform : 글로럿 초기화(Xavier 초기화)\n",
        "- lecun_normal, lecun_uniform : Yann Lecun 초기화\n",
        "- he_normal, he_uniform : He 초기화\n",
        "- random_normal, random_uniform : 정규 분포, 연속균등 분포 초기화"
      ],
      "metadata": {
        "id": "FgRJpiSRyQqU"
      }
    },
    {
      "cell_type": "markdown",
      "source": [
        "### 4-2 규제(Regularization)\n",
        "- 모델의 과대적합을 해소하기 위해 L1, L2 규제 적용\n",
        "- 기본값 : 규제X"
      ],
      "metadata": {
        "id": "pYd7kyV1yVlu"
      }
    },
    {
      "cell_type": "code",
      "source": [
        "# 기본값\n",
        "dense = tf.keras.layers.Dense(256, activation='relu')\n",
        "dense.get_config()"
      ],
      "metadata": {
        "colab": {
          "base_uri": "https://localhost:8080/"
        },
        "id": "ze3y6zM8yBng",
        "outputId": "52143dc5-8d25-4c5e-9eea-20b97da261a7"
      },
      "execution_count": 4,
      "outputs": [
        {
          "output_type": "execute_result",
          "data": {
            "text/plain": [
              "{'name': 'dense_3',\n",
              " 'trainable': True,\n",
              " 'dtype': 'float32',\n",
              " 'units': 256,\n",
              " 'activation': 'relu',\n",
              " 'use_bias': True,\n",
              " 'kernel_initializer': {'module': 'keras.initializers',\n",
              "  'class_name': 'GlorotUniform',\n",
              "  'config': {'seed': None},\n",
              "  'registered_name': None},\n",
              " 'bias_initializer': {'module': 'keras.initializers',\n",
              "  'class_name': 'Zeros',\n",
              "  'config': {},\n",
              "  'registered_name': None},\n",
              " 'kernel_regularizer': None,\n",
              " 'bias_regularizer': None,\n",
              " 'activity_regularizer': None,\n",
              " 'kernel_constraint': None,\n",
              " 'bias_constraint': None}"
            ]
          },
          "metadata": {},
          "execution_count": 4
        }
      ]
    },
    {
      "cell_type": "markdown",
      "source": [
        "규제를 적용하기 위해서는 `kernel_regularizer`에 규제 지정"
      ],
      "metadata": {
        "id": "DhEoZcNeyexj"
      }
    },
    {
      "cell_type": "code",
      "source": [
        "# L1 규제 적용\n",
        "dense = tf.keras.layers.Dense(256, kernel_regularizer='l1', activation='relu')\n",
        "print(dense.get_config()['kernel_regularizer'])\n",
        "\n",
        "# 클래스 인스턴스 적용, alpha=0.1 변경\n",
        "regularizer = tf.keras.regularizers.l1(l1=0.1)\n",
        "dense = tf.keras.layers.Dense(256, kernel_regularizer=regularizer, activation='relu')\n",
        "print(dense.get_config()['kernel_regularizer'])"
      ],
      "metadata": {
        "colab": {
          "base_uri": "https://localhost:8080/"
        },
        "id": "DdYCqHnIyc8K",
        "outputId": "c4b9855b-d7e1-46df-be42-8daddeb60cbd"
      },
      "execution_count": 5,
      "outputs": [
        {
          "output_type": "stream",
          "name": "stdout",
          "text": [
            "{'module': 'keras.regularizers', 'class_name': 'L1', 'config': {'l1': 0.009999999776482582}, 'registered_name': None}\n",
            "{'module': 'keras.regularizers', 'class_name': 'L1', 'config': {'l1': 0.10000000149011612}, 'registered_name': None}\n"
          ]
        }
      ]
    },
    {
      "cell_type": "markdown",
      "source": [
        "### 4-3 드롭아웃(Dropout)\n",
        "- 딥러닝 모델의 층이 넓고 깊어질 때 모델은 훈련에 주어진 샘플에 과하게 적합하도록 학습하는 경향 -> 과대적합 문제\n",
        "\n",
        "- 드롭아웃 : 모델의 과대적합 문제를 해결하기 위해 제안된 아이디어. 노드의 일부 신호를 임의로 삭제\n",
        "\n",
        "- 모델이 훈련할 때는 드롭아웃이 적용되어 노드 중 일부만 훈련하게 되지만, 예측 시점에는 모든 노드들 활용된다\n",
        "\n",
        "- Dropout 레이어 함수에 입력하는 숫자 : 노드에서 제거되는 비율"
      ],
      "metadata": {
        "id": "GHdSgH4hyoBq"
      }
    },
    {
      "cell_type": "code",
      "source": [
        "# Dropout 25% 비율 적용 (25% 노드가 삭제)\n",
        "tf.keras.layers.Dropout(0.25)"
      ],
      "metadata": {
        "colab": {
          "base_uri": "https://localhost:8080/"
        },
        "id": "AkjXqD4lyjHz",
        "outputId": "e50969e2-387e-4f36-e4d1-ba0170385f53"
      },
      "execution_count": 6,
      "outputs": [
        {
          "output_type": "execute_result",
          "data": {
            "text/plain": [
              "<keras.src.layers.regularization.dropout.Dropout at 0x78398f1fb0a0>"
            ]
          },
          "metadata": {},
          "execution_count": 6
        }
      ]
    },
    {
      "cell_type": "markdown",
      "source": [
        "### 4-4 배치 정규화(Batch Normalization)\n",
        "- 배치 정규화 : 각 층에서 활성화 함수를 통과하기 전 미니 배치의 스케일 정규화 -> 안정적인 훈련 가능. 성능 크게 향상\n",
        "\n",
        "- 별도로 코드 구현할 필요x. 클래스 인스턴스 생성하여 추가"
      ],
      "metadata": {
        "id": "mRGXjI5ay7_D"
      }
    },
    {
      "cell_type": "code",
      "source": [
        "# model A: Dense+ReLu\n",
        "model_a = tf.keras.Sequential([\n",
        "    tf.keras.layers.Flatten(input_shape=(28, 28)),\n",
        "    tf.keras.layers.Dense(64, activation='relu'),\n",
        "    tf.keras.layers.Dense(32, activation='relu'),\n",
        "    tf.keras.layers.Dense(10, activation='softmax')\n",
        "])\n",
        "\n",
        "model_a.summary()"
      ],
      "metadata": {
        "colab": {
          "base_uri": "https://localhost:8080/"
        },
        "id": "jijVfwC8y6kc",
        "outputId": "3c9aaafe-7560-4100-f80c-13765c3b4107"
      },
      "execution_count": 7,
      "outputs": [
        {
          "output_type": "stream",
          "name": "stdout",
          "text": [
            "Model: \"sequential\"\n",
            "_________________________________________________________________\n",
            " Layer (type)                Output Shape              Param #   \n",
            "=================================================================\n",
            " flatten (Flatten)           (None, 784)               0         \n",
            "                                                                 \n",
            " dense_6 (Dense)             (None, 64)                50240     \n",
            "                                                                 \n",
            " dense_7 (Dense)             (None, 32)                2080      \n",
            "                                                                 \n",
            " dense_8 (Dense)             (None, 10)                330       \n",
            "                                                                 \n",
            "=================================================================\n",
            "Total params: 52650 (205.66 KB)\n",
            "Trainable params: 52650 (205.66 KB)\n",
            "Non-trainable params: 0 (0.00 Byte)\n",
            "_________________________________________________________________\n"
          ]
        }
      ]
    },
    {
      "cell_type": "code",
      "source": [
        "# model B: Dense+BatchNorm + ReLU\n",
        "model_b=tf.keras.Sequential([\n",
        "    tf.keras.layers.Flatten(input_shape=(28, 28)),\n",
        "    tf.keras.layers.Dense(64),\n",
        "    # 여기서 배치 정규화 적용\n",
        "    tf.keras.layers.BatchNormalization(),\n",
        "    # 배치 정규화 후 활성화 함수 적용\n",
        "    tf.keras.layers.Activation('relu'),\n",
        "\n",
        "    tf.keras.layers.Dense(32),\n",
        "    # 배치 정규화 적용\n",
        "    tf.keras.layers.BatchNormalization(),\n",
        "    # 배치 정규화 후 활성화 함수 적용\n",
        "    tf.keras.layers.Activation('relu'),\n",
        "\n",
        "    tf.keras.layers.Dense(10, activation='softmax')\n",
        "])\n",
        "\n",
        "model_b.summary()"
      ],
      "metadata": {
        "colab": {
          "base_uri": "https://localhost:8080/"
        },
        "id": "Hoil0rb_zVcm",
        "outputId": "9005c9c7-cebd-4c67-dfa6-522207f9b407"
      },
      "execution_count": 8,
      "outputs": [
        {
          "output_type": "stream",
          "name": "stdout",
          "text": [
            "Model: \"sequential_1\"\n",
            "_________________________________________________________________\n",
            " Layer (type)                Output Shape              Param #   \n",
            "=================================================================\n",
            " flatten_1 (Flatten)         (None, 784)               0         \n",
            "                                                                 \n",
            " dense_9 (Dense)             (None, 64)                50240     \n",
            "                                                                 \n",
            " batch_normalization (Batch  (None, 64)                256       \n",
            " Normalization)                                                  \n",
            "                                                                 \n",
            " activation (Activation)     (None, 64)                0         \n",
            "                                                                 \n",
            " dense_10 (Dense)            (None, 32)                2080      \n",
            "                                                                 \n",
            " batch_normalization_1 (Bat  (None, 32)                128       \n",
            " chNormalization)                                                \n",
            "                                                                 \n",
            " activation_1 (Activation)   (None, 32)                0         \n",
            "                                                                 \n",
            " dense_11 (Dense)            (None, 10)                330       \n",
            "                                                                 \n",
            "=================================================================\n",
            "Total params: 53034 (207.16 KB)\n",
            "Trainable params: 52842 (206.41 KB)\n",
            "Non-trainable params: 192 (768.00 Byte)\n",
            "_________________________________________________________________\n"
          ]
        }
      ]
    },
    {
      "cell_type": "markdown",
      "source": [
        "![image.png](data:image/png;base64,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)"
      ],
      "metadata": {
        "id": "E0kNRVDNzn1h"
      }
    },
    {
      "cell_type": "markdown",
      "source": [
        "- 배치 정규화만 추가하였는데 손실은 이전 대비 더 안정적이고 빠르게 수렴"
      ],
      "metadata": {
        "id": "SZqex1mCzqPa"
      }
    },
    {
      "cell_type": "markdown",
      "source": [
        "### 4-5 활성화(activation) 함수\n",
        "- 주로 Dense 레이어에 ReLU 활성화 함수 지정.\n",
        "\n",
        "- 활성화 함수 적용 시, 클래스 인스턴스로 선언하여 하이퍼파라미터 값 변경하여 적용 가능"
      ],
      "metadata": {
        "id": "WRbnAS4-zxFt"
      }
    },
    {
      "cell_type": "code",
      "source": [
        "# LeakyReLU 기본 설정\n",
        "tf.keras.layers.LeakyReLU()\n",
        "\n",
        "# LeakyReLU, alpha=0.2로 변경\n",
        "tf.keras.layers.LeakyReLU(alpha=0.2)"
      ],
      "metadata": {
        "colab": {
          "base_uri": "https://localhost:8080/"
        },
        "id": "aAd_c16Lzd6p",
        "outputId": "9529b5fb-1d88-47c1-e9fb-64a96c5dbd44"
      },
      "execution_count": 9,
      "outputs": [
        {
          "output_type": "execute_result",
          "data": {
            "text/plain": [
              "<keras.src.layers.activation.leaky_relu.LeakyReLU at 0x78398e976320>"
            ]
          },
          "metadata": {},
          "execution_count": 9
        }
      ]
    },
    {
      "cell_type": "code",
      "source": [
        "# model C: Dense + BatchNorm + LeakyReLU(0,2)\n",
        "model_c = tf.keras.Sequential([\n",
        "    tf.keras.layers.Flatten(input_shape=(28, 28)),\n",
        "    tf.keras.layers.Dense(64),\n",
        "    # 여기서 배치 정규화 적용\n",
        "    tf.keras.layers.BatchNormalization(),\n",
        "    # 배치 정규화 후 활성화 함수 (LeakyReLU, alpha=0.2) 적용\n",
        "    tf.keras.layers.LeakyReLU(alpha=0.2),\n",
        "\n",
        "    tf.keras.layers.Dense(32),\n",
        "    # 배치 정규화 적용\n",
        "    tf.keras.layers.BatchNormalization(),\n",
        "    # 배치 정규화 후 활성화 함수 적용\n",
        "    tf.keras.layers.LeakyReLU(alpha=0.2),\n",
        "\n",
        "    tf.keras.layers.Dense(10, activation='softmax')\n",
        "])\n",
        "\n",
        "model_c.summary()"
      ],
      "metadata": {
        "colab": {
          "base_uri": "https://localhost:8080/"
        },
        "id": "ecLvp-ofz3ey",
        "outputId": "31bf2969-8207-45a5-b8c2-3cfa70cfbbd4"
      },
      "execution_count": 10,
      "outputs": [
        {
          "output_type": "stream",
          "name": "stdout",
          "text": [
            "Model: \"sequential_2\"\n",
            "_________________________________________________________________\n",
            " Layer (type)                Output Shape              Param #   \n",
            "=================================================================\n",
            " flatten_2 (Flatten)         (None, 784)               0         \n",
            "                                                                 \n",
            " dense_12 (Dense)            (None, 64)                50240     \n",
            "                                                                 \n",
            " batch_normalization_2 (Bat  (None, 64)                256       \n",
            " chNormalization)                                                \n",
            "                                                                 \n",
            " leaky_re_lu_2 (LeakyReLU)   (None, 64)                0         \n",
            "                                                                 \n",
            " dense_13 (Dense)            (None, 32)                2080      \n",
            "                                                                 \n",
            " batch_normalization_3 (Bat  (None, 32)                128       \n",
            " chNormalization)                                                \n",
            "                                                                 \n",
            " leaky_re_lu_3 (LeakyReLU)   (None, 32)                0         \n",
            "                                                                 \n",
            " dense_14 (Dense)            (None, 10)                330       \n",
            "                                                                 \n",
            "=================================================================\n",
            "Total params: 53034 (207.16 KB)\n",
            "Trainable params: 52842 (206.41 KB)\n",
            "Non-trainable params: 192 (768.00 Byte)\n",
            "_________________________________________________________________\n"
          ]
        }
      ]
    },
    {
      "cell_type": "markdown",
      "source": [
        "- 3개 모델 훈련 후 수렴 속도 확인\n",
        " - model_a : Dense 레이어 + ReLU 활성화 함수\n",
        " - model_b : Dense 레이어 + 배치 정규화\n",
        " - model_c : Dense 레이어 + 배치 정규화 + LeakyReLU(0.2) 활성화 함수"
      ],
      "metadata": {
        "id": "67ztvQLBz_Yz"
      }
    },
    {
      "cell_type": "code",
      "source": [
        "model_a.compile(optimizer = 'adam', loss='sparse_categorical_crossentropy', metrics=['accuracy'])\n",
        "model_b.compile(optimizer = 'adam', loss='sparse_categorical_crossentropy', metrics=['accuracy'])\n",
        "model_c.compile(optimizer = 'adam', loss='sparse_categorical_crossentropy', metrics=['accuracy'])\n",
        "\n",
        "# Model A : Dense + ReLU\n",
        "history_a=model_a.fit(x_train, y_train,\n",
        "                      validation_data = (x_test, y_test), epochs=10)\n",
        "# Model B : Dense + BatchNorm + ReLU\n",
        "history_b=model_b.fit(x_train, y_train,\n",
        "                      validation_data = (x_test, y_test), epochs=10)\n",
        "# Model C : Dense + BatchNorm + LeakyReLU(0,2)\n",
        "history_c=model_c.fit(x_train, y_train,\n",
        "                      validation_data = (x_test, y_test), epochs=10)"
      ],
      "metadata": {
        "colab": {
          "base_uri": "https://localhost:8080/"
        },
        "id": "5zmkiadxz8V9",
        "outputId": "562b3a3b-732c-4b23-8d3b-595071ea3ad8"
      },
      "execution_count": 11,
      "outputs": [
        {
          "output_type": "stream",
          "name": "stdout",
          "text": [
            "Epoch 1/10\n",
            "1875/1875 [==============================] - 13s 7ms/step - loss: 0.2897 - accuracy: 0.9163 - val_loss: 0.1536 - val_accuracy: 0.9552\n",
            "Epoch 2/10\n",
            "1875/1875 [==============================] - 16s 9ms/step - loss: 0.1373 - accuracy: 0.9591 - val_loss: 0.1149 - val_accuracy: 0.9659\n",
            "Epoch 3/10\n",
            "1875/1875 [==============================] - 17s 9ms/step - loss: 0.1018 - accuracy: 0.9696 - val_loss: 0.1068 - val_accuracy: 0.9668\n",
            "Epoch 4/10\n",
            "1875/1875 [==============================] - 9s 5ms/step - loss: 0.0807 - accuracy: 0.9750 - val_loss: 0.0990 - val_accuracy: 0.9707\n",
            "Epoch 5/10\n",
            "1875/1875 [==============================] - 6s 3ms/step - loss: 0.0674 - accuracy: 0.9790 - val_loss: 0.1086 - val_accuracy: 0.9703\n",
            "Epoch 6/10\n",
            "1875/1875 [==============================] - 8s 4ms/step - loss: 0.0565 - accuracy: 0.9821 - val_loss: 0.0825 - val_accuracy: 0.9755\n",
            "Epoch 7/10\n",
            "1875/1875 [==============================] - 6s 3ms/step - loss: 0.0484 - accuracy: 0.9847 - val_loss: 0.0891 - val_accuracy: 0.9738\n",
            "Epoch 8/10\n",
            "1875/1875 [==============================] - 8s 4ms/step - loss: 0.0422 - accuracy: 0.9869 - val_loss: 0.1112 - val_accuracy: 0.9695\n",
            "Epoch 9/10\n",
            "1875/1875 [==============================] - 6s 3ms/step - loss: 0.0379 - accuracy: 0.9885 - val_loss: 0.0935 - val_accuracy: 0.9741\n",
            "Epoch 10/10\n",
            "1875/1875 [==============================] - 7s 4ms/step - loss: 0.0325 - accuracy: 0.9900 - val_loss: 0.0931 - val_accuracy: 0.9734\n",
            "Epoch 1/10\n",
            "1875/1875 [==============================] - 8s 4ms/step - loss: 0.3256 - accuracy: 0.9095 - val_loss: 0.1432 - val_accuracy: 0.9568\n",
            "Epoch 2/10\n",
            "1875/1875 [==============================] - 8s 4ms/step - loss: 0.1436 - accuracy: 0.9566 - val_loss: 0.1044 - val_accuracy: 0.9678\n",
            "Epoch 3/10\n",
            "1875/1875 [==============================] - 7s 4ms/step - loss: 0.1107 - accuracy: 0.9657 - val_loss: 0.0891 - val_accuracy: 0.9723\n",
            "Epoch 4/10\n",
            "1875/1875 [==============================] - 8s 4ms/step - loss: 0.0937 - accuracy: 0.9709 - val_loss: 0.0868 - val_accuracy: 0.9729\n",
            "Epoch 5/10\n",
            "1875/1875 [==============================] - 8s 4ms/step - loss: 0.0837 - accuracy: 0.9739 - val_loss: 0.0788 - val_accuracy: 0.9774\n",
            "Epoch 6/10\n",
            "1875/1875 [==============================] - 8s 4ms/step - loss: 0.0745 - accuracy: 0.9768 - val_loss: 0.0790 - val_accuracy: 0.9752\n",
            "Epoch 7/10\n",
            "1875/1875 [==============================] - 8s 4ms/step - loss: 0.0698 - accuracy: 0.9775 - val_loss: 0.0768 - val_accuracy: 0.9774\n",
            "Epoch 8/10\n",
            "1875/1875 [==============================] - 8s 4ms/step - loss: 0.0602 - accuracy: 0.9807 - val_loss: 0.0778 - val_accuracy: 0.9768\n",
            "Epoch 9/10\n",
            "1875/1875 [==============================] - 8s 4ms/step - loss: 0.0569 - accuracy: 0.9817 - val_loss: 0.0832 - val_accuracy: 0.9760\n",
            "Epoch 10/10\n",
            "1875/1875 [==============================] - 8s 4ms/step - loss: 0.0546 - accuracy: 0.9818 - val_loss: 0.0743 - val_accuracy: 0.9784\n",
            "Epoch 1/10\n",
            "1875/1875 [==============================] - 10s 5ms/step - loss: 0.3239 - accuracy: 0.9084 - val_loss: 0.1607 - val_accuracy: 0.9511\n",
            "Epoch 2/10\n",
            "1875/1875 [==============================] - 7s 4ms/step - loss: 0.1567 - accuracy: 0.9530 - val_loss: 0.1152 - val_accuracy: 0.9640\n",
            "Epoch 3/10\n",
            "1875/1875 [==============================] - 9s 5ms/step - loss: 0.1196 - accuracy: 0.9633 - val_loss: 0.0989 - val_accuracy: 0.9690\n",
            "Epoch 4/10\n",
            "1875/1875 [==============================] - 10s 6ms/step - loss: 0.1009 - accuracy: 0.9686 - val_loss: 0.0945 - val_accuracy: 0.9709\n",
            "Epoch 5/10\n",
            "1875/1875 [==============================] - 9s 5ms/step - loss: 0.0925 - accuracy: 0.9704 - val_loss: 0.0892 - val_accuracy: 0.9724\n",
            "Epoch 6/10\n",
            "1875/1875 [==============================] - 11s 6ms/step - loss: 0.0830 - accuracy: 0.9731 - val_loss: 0.0932 - val_accuracy: 0.9711\n",
            "Epoch 7/10\n",
            "1875/1875 [==============================] - 13s 7ms/step - loss: 0.0766 - accuracy: 0.9760 - val_loss: 0.0805 - val_accuracy: 0.9747\n",
            "Epoch 8/10\n",
            "1875/1875 [==============================] - 9s 5ms/step - loss: 0.0714 - accuracy: 0.9772 - val_loss: 0.0815 - val_accuracy: 0.9742\n",
            "Epoch 9/10\n",
            "1875/1875 [==============================] - 8s 4ms/step - loss: 0.0667 - accuracy: 0.9786 - val_loss: 0.0799 - val_accuracy: 0.9757\n",
            "Epoch 10/10\n",
            "1875/1875 [==============================] - 10s 5ms/step - loss: 0.0623 - accuracy: 0.9796 - val_loss: 0.0720 - val_accuracy: 0.9768\n"
          ]
        }
      ]
    },
    {
      "cell_type": "code",
      "source": [
        "import matplotlib.pyplot as plt\n",
        "import numpy as np\n",
        "\n",
        "plt.figure(figsize=(12, 9))\n",
        "plt.plot(np.arange(1, 11), history_a.history['val_loss'], color='navy', linestyle=':')\n",
        "plt.plot(np.arange(1, 11), history_b.history['val_loss'], color='tomato', linestyle='-.')\n",
        "plt.plot(np.arange(1, 11), history_c.history['val_loss'], color='green', linestyle='-')\n",
        "\n",
        "plt.title('Losses', fontsize=20)\n",
        "plt.xlabel('epochs')\n",
        "plt.ylabel('Losses')\n",
        "plt.legend(['ReLU', 'BatchNorm+ReLU', 'BatchNorm+LeakyReLU'], fontsize=12)\n",
        "plt.show()"
      ],
      "metadata": {
        "colab": {
          "base_uri": "https://localhost:8080/",
          "height": 803
        },
        "id": "cCgV_gj40LVX",
        "outputId": "6cc7ee39-62ea-4cea-d0e1-b31e68010b3c"
      },
      "execution_count": 12,
      "outputs": [
        {
          "output_type": "display_data",
          "data": {
            "text/plain": [
              "<Figure size 1200x900 with 1 Axes>"
            ],
            "image/png": "[encoded data removed]"
          },
          "metadata": {}
        }
      ]
    },
    {
      "cell_type": "markdown",
      "source": [
        "- 모델별 차이가 크지는 않다."
      ],
      "metadata": {
        "id": "ZxazYOSh0RZw"
      }
    },
    {
      "cell_type": "markdown",
      "source": [
        "## 06 모델 저장 및 불러오기"
      ],
      "metadata": {
        "id": "2DuhZ_1s0VVR"
      }
    },
    {
      "cell_type": "markdown",
      "source": [
        "### 6-1 모델을 파일로 저장\n",
        "- save() 메소드 : 훈련을 종료하여 가중치가 업데이트된 모델 인스턴스 저장\n",
        "\n",
        "- 호출할 때 저장할 파일의 디렉토리를 포함하는 파일명을 매개변수로 지정\n",
        "- 저장 형식 : HDF5 포맷, SavedModel 포맷\n",
        "- .h5 확장자 포함하는 경우 HDF5 포맷으로 저장. 대용량 저장"
      ],
      "metadata": {
        "id": "b_DM_pYx0skw"
      }
    },
    {
      "cell_type": "code",
      "source": [
        "# 모델명을 h5 포맷으로 저장\n",
        "model_b.save('h5-model.h5')"
      ],
      "metadata": {
        "colab": {
          "base_uri": "https://localhost:8080/"
        },
        "id": "uGCgk4Qb0Qjb",
        "outputId": "364734d2-9f1f-4128-e936-09fa5d18978c"
      },
      "execution_count": 13,
      "outputs": [
        {
          "output_type": "stream",
          "name": "stderr",
          "text": [
            "/usr/local/lib/python3.10/dist-packages/keras/src/engine/training.py:3103: UserWarning: You are saving your model as an HDF5 file via `model.save()`. This file format is considered legacy. We recommend using instead the native Keras format, e.g. `model.save('my_model.keras')`.\n",
            "  saving_api.save_model(\n"
          ]
        }
      ]
    },
    {
      "cell_type": "markdown",
      "source": [
        "### 6-2 저장된 모델 복원\n",
        "- `tensorflow.keras.models.load_model()` 메소드 : 저장된 모델 복원\n",
        "\n"
      ],
      "metadata": {
        "id": "ziA8hitA1OMs"
      }
    },
    {
      "cell_type": "code",
      "source": [
        "#모델 복원\n",
        "h5_model = tf.keras.models.load_model('h5-model.h5')\n",
        "h5_model.summary()"
      ],
      "metadata": {
        "colab": {
          "base_uri": "https://localhost:8080/"
        },
        "id": "T9L1VmxA1M06",
        "outputId": "bf41f108-264f-4f5f-9826-03a0a0492d07"
      },
      "execution_count": 14,
      "outputs": [
        {
          "output_type": "stream",
          "name": "stdout",
          "text": [
            "Model: \"sequential_1\"\n",
            "_________________________________________________________________\n",
            " Layer (type)                Output Shape              Param #   \n",
            "=================================================================\n",
            " flatten_1 (Flatten)         (None, 784)               0         \n",
            "                                                                 \n",
            " dense_9 (Dense)             (None, 64)                50240     \n",
            "                                                                 \n",
            " batch_normalization (Batch  (None, 64)                256       \n",
            " Normalization)                                                  \n",
            "                                                                 \n",
            " activation (Activation)     (None, 64)                0         \n",
            "                                                                 \n",
            " dense_10 (Dense)            (None, 32)                2080      \n",
            "                                                                 \n",
            " batch_normalization_1 (Bat  (None, 32)                128       \n",
            " chNormalization)                                                \n",
            "                                                                 \n",
            " activation_1 (Activation)   (None, 32)                0         \n",
            "                                                                 \n",
            " dense_11 (Dense)            (None, 10)                330       \n",
            "                                                                 \n",
            "=================================================================\n",
            "Total params: 53034 (207.16 KB)\n",
            "Trainable params: 52842 (206.41 KB)\n",
            "Non-trainable params: 192 (768.00 Byte)\n",
            "_________________________________________________________________\n"
          ]
        }
      ]
    },
    {
      "cell_type": "markdown",
      "source": [
        "모델 검증 : 복원 잘 되었는지 확인. evaluate 함수에 대입"
      ],
      "metadata": {
        "id": "V00BZdvm1Y9O"
      }
    },
    {
      "cell_type": "code",
      "source": [
        "# 모델 검증\n",
        "loss, acc=h5_model.evaluate(x_test, y_test, verbose=0)\n",
        "print(f'h5_model] loss: {loss:.5f}, acc: {acc:.5f}')"
      ],
      "metadata": {
        "colab": {
          "base_uri": "https://localhost:8080/"
        },
        "id": "bUDO8fjj1TAq",
        "outputId": "583d5a0b-ba51-4414-cd06-8bdf0f9a1b97"
      },
      "execution_count": 15,
      "outputs": [
        {
          "output_type": "stream",
          "name": "stdout",
          "text": [
            "h5_model] loss: 0.07428, acc: 0.97840\n"
          ]
        }
      ]
    },
    {
      "cell_type": "markdown",
      "source": [
        ".h5 확장자 생략하면 SavedModel 포맷으로 저장"
      ],
      "metadata": {
        "id": "E83s9SbV1dXQ"
      }
    },
    {
      "cell_type": "code",
      "source": [
        "# 모델을 SavedModel 포맷으로 저장\n",
        "model_b.save('saved-model')"
      ],
      "metadata": {
        "id": "7bhm5Kar1cDO"
      },
      "execution_count": 16,
      "outputs": []
    },
    {
      "cell_type": "code",
      "source": [
        "# 모델 복원\n",
        "saved_model=tf.keras.models.load_model('saved-model')\n",
        "saved_model.summary()"
      ],
      "metadata": {
        "colab": {
          "base_uri": "https://localhost:8080/"
        },
        "id": "n69QvXar1fr0",
        "outputId": "11151b45-bcc4-490c-8c2d-8933a6d5b724"
      },
      "execution_count": 17,
      "outputs": [
        {
          "output_type": "stream",
          "name": "stdout",
          "text": [
            "Model: \"sequential_1\"\n",
            "_________________________________________________________________\n",
            " Layer (type)                Output Shape              Param #   \n",
            "=================================================================\n",
            " flatten_1 (Flatten)         (None, 784)               0         \n",
            "                                                                 \n",
            " dense_9 (Dense)             (None, 64)                50240     \n",
            "                                                                 \n",
            " batch_normalization (Batch  (None, 64)                256       \n",
            " Normalization)                                                  \n",
            "                                                                 \n",
            " activation (Activation)     (None, 64)                0         \n",
            "                                                                 \n",
            " dense_10 (Dense)            (None, 32)                2080      \n",
            "                                                                 \n",
            " batch_normalization_1 (Bat  (None, 32)                128       \n",
            " chNormalization)                                                \n",
            "                                                                 \n",
            " activation_1 (Activation)   (None, 32)                0         \n",
            "                                                                 \n",
            " dense_11 (Dense)            (None, 10)                330       \n",
            "                                                                 \n",
            "=================================================================\n",
            "Total params: 53034 (207.16 KB)\n",
            "Trainable params: 52842 (206.41 KB)\n",
            "Non-trainable params: 192 (768.00 Byte)\n",
            "_________________________________________________________________\n"
          ]
        }
      ]
    },
    {
      "cell_type": "markdown",
      "source": [
        "SavedModel형식과 HDF5 형식으로 저장 및 복원된 모델들은 동일한 성능을 나타낸다."
      ],
      "metadata": {
        "id": "VE8SUMBK1jRW"
      }
    },
    {
      "cell_type": "code",
      "source": [
        "# 모델 검증 (HDF5 포맷)\n",
        "loss, acc=h5_model.evaluate(x_test, y_test, verbose=0)\n",
        "print(f'h5_model] loss: {loss:.5f}, acc: {acc:.5f}')\n",
        "\n",
        "# 모델 검증 (SavedModel 포맷)\n",
        "loss, acc=saved_model.evaluate(x_test, y_test, verbose= 0)\n",
        "print(f'saved_model] loss: {loss:.5f}, acc: {acc:.5f}')"
      ],
      "metadata": {
        "colab": {
          "base_uri": "https://localhost:8080/"
        },
        "id": "Ustf8K2X1hOp",
        "outputId": "e887258f-5438-46bb-88ce-a06b0aa731c1"
      },
      "execution_count": 18,
      "outputs": [
        {
          "output_type": "stream",
          "name": "stdout",
          "text": [
            "h5_model] loss: 0.07428, acc: 0.97840\n",
            "saved_model] loss: 0.07428, acc: 0.97840\n"
          ]
        }
      ]
    },
    {
      "cell_type": "markdown",
      "source": [
        "## 07. 복잡한 모델 생성"
      ],
      "metadata": {
        "id": "BI5vZ_YI1qVm"
      }
    },
    {
      "cell_type": "markdown",
      "source": [
        "### 7-1 함수형 API(Functional API)\n",
        "- Functional API : 복잡한 구조의 모델 정의 가능\n",
        "\n",
        "- Sequential API : 단방향의 Sequential 모델만 구현가능. 데이터 흐름이 특정 레이어를 건너뛰거나, 병합 및 분리하는 등의 구조의 모델 구현할 수는 없다\n",
        "\n",
        "- 함수형 API 사용하기 위해서는 Input 레이어 정의 -> 데이터의 입력 shape 정의 -> 레이어마다 반환하는 출력 값을 변수에 저장한 뒤 다음 레이어의 입력으로 연결"
      ],
      "metadata": {
        "id": "GgoRljaK1yGb"
      }
    },
    {
      "cell_type": "code",
      "source": [
        "import tensorflow as tf\n",
        "\n",
        "# 모델의 레이어를 체인 구조로 연결 input 레이어 정의\n",
        "input_layer=tf.keras.Input(shape=(28, 28), name='InputLayer')\n",
        "\n",
        "# 모델의 레이어를 체인 구조로 연결\n",
        "x1=tf.keras.layers.Flatten(name='Flatten')(input_layer)\n",
        "x2=tf.keras.layers.Dense(256, activation='relu', name='Dense1')(x1)\n",
        "x3=tf.keras.layers.Dense(64, activation='relu', name='Dense2')(x2)\n",
        "x4=tf.keras.layers.Dense(10, activation='softmax', name='OutputLayer')(x3)"
      ],
      "metadata": {
        "id": "cPz6Kr0z1ok9"
      },
      "execution_count": 19,
      "outputs": []
    },
    {
      "cell_type": "markdown",
      "source": [
        "- 레이어마다 `name` 매개변수로 이름 부여할 수 있음."
      ],
      "metadata": {
        "id": "iwHtJNDq2R5O"
      }
    },
    {
      "cell_type": "code",
      "source": [
        "# 모델 생성\n",
        "func_model=tf.keras.Model(inputs=input_layer, outputs=x4, name='FunctionalModel')\n",
        "\n",
        "# 모델 요약\n",
        "func_model.summary()"
      ],
      "metadata": {
        "colab": {
          "base_uri": "https://localhost:8080/"
        },
        "id": "bQPn2tPz2LcZ",
        "outputId": "b4217e3e-0f0d-42fe-a23d-3faf21003d13"
      },
      "execution_count": 20,
      "outputs": [
        {
          "output_type": "stream",
          "name": "stdout",
          "text": [
            "Model: \"FunctionalModel\"\n",
            "_________________________________________________________________\n",
            " Layer (type)                Output Shape              Param #   \n",
            "=================================================================\n",
            " InputLayer (InputLayer)     [(None, 28, 28)]          0         \n",
            "                                                                 \n",
            " Flatten (Flatten)           (None, 784)               0         \n",
            "                                                                 \n",
            " Dense1 (Dense)              (None, 256)               200960    \n",
            "                                                                 \n",
            " Dense2 (Dense)              (None, 64)                16448     \n",
            "                                                                 \n",
            " OutputLayer (Dense)         (None, 10)                650       \n",
            "                                                                 \n",
            "=================================================================\n",
            "Total params: 218058 (851.79 KB)\n",
            "Trainable params: 218058 (851.79 KB)\n",
            "Non-trainable params: 0 (0.00 Byte)\n",
            "_________________________________________________________________\n"
          ]
        }
      ]
    },
    {
      "cell_type": "markdown",
      "source": [
        "- inputs 매개변수로 입력층인 input_layer 지정, outputs 매개변수에 출력층 지정, name 매개변수에 이름 지정"
      ],
      "metadata": {
        "id": "87E-4l8P2dBm"
      }
    },
    {
      "cell_type": "markdown",
      "source": [
        "복잡한 구조를 갖는 모델은 `plot_model` 모듈 활용하여 모델 구조도 시각화"
      ],
      "metadata": {
        "id": "k1jfh04H2e0g"
      }
    },
    {
      "cell_type": "code",
      "source": [
        "from tensorflow.keras.utils import plot_model\n",
        "\n",
        "# 구조도 시각화\n",
        "plot_model(func_model, show_shapes=True, show_layer_names=True, to_file='model.png')"
      ],
      "metadata": {
        "colab": {
          "base_uri": "https://localhost:8080/",
          "height": 533
        },
        "id": "Jb9d1sOt2aDh",
        "outputId": "ffe84f0b-f31e-4745-a0e6-6cc423718876"
      },
      "execution_count": 21,
      "outputs": [
        {
          "output_type": "execute_result",
          "data": {
            "image/png": "[encoded data removed]",
            "text/plain": [
              "<IPython.core.display.Image object>"
            ]
          },
          "metadata": {},
          "execution_count": 21
        }
      ]
    },
    {
      "cell_type": "markdown",
      "source": [
        "- show_shapes = True : 데이터의 입출력 shape 출력\n",
        "- show_layer_names = True : 레이어의 이름 출력\n",
        "- to_file : 파일명 입력하면 이미지 파일로 저장"
      ],
      "metadata": {
        "id": "aS-XnNtZ2j4j"
      }
    },
    {
      "cell_type": "markdown",
      "source": [
        "함수형 API도 Sequential API와 동일한 방식으로 훈련"
      ],
      "metadata": {
        "id": "s6sxTrw12oHY"
      }
    },
    {
      "cell_type": "code",
      "source": [
        "# 컴파일\n",
        "func_model.compile(optimizer='adam', loss='sparse_categorical_crossentropy', metrics=['accuracy'])\n",
        "\n",
        "# 훈련\n",
        "func_model.fit(x_train, y_train, epochs=3)\n",
        "\n",
        "# 검증\n",
        "loss, acc=func_model.evaluate(x_test, y_test, verbose=0)\n",
        "print(f'Functional Model] loss: {loss:.5f}, acc: {acc:.5f}')"
      ],
      "metadata": {
        "colab": {
          "base_uri": "https://localhost:8080/"
        },
        "id": "6NpVjOr_2haj",
        "outputId": "16b719ad-67bb-4a7b-f890-afaca5e817d9"
      },
      "execution_count": 22,
      "outputs": [
        {
          "output_type": "stream",
          "name": "stdout",
          "text": [
            "Epoch 1/3\n",
            "1875/1875 [==============================] - 14s 7ms/step - loss: 0.2132 - accuracy: 0.9366\n",
            "Epoch 2/3\n",
            "1875/1875 [==============================] - 13s 7ms/step - loss: 0.0873 - accuracy: 0.9731\n",
            "Epoch 3/3\n",
            "1875/1875 [==============================] - 14s 7ms/step - loss: 0.0608 - accuracy: 0.9808\n",
            "Functional Model] loss: 0.07740, acc: 0.97670\n"
          ]
        }
      ]
    },
    {
      "cell_type": "markdown",
      "source": [
        "### 7-2 모델 서브클래싱(Model Subclassing)\n",
        "- Model 클래스를 직접 상속받아 사용자가 직접 서브클래스로 딥러닝 모델 만들 수 있다\n",
        "- Model Subclassing으로 모델 인스턴스 생성하기 위해서는 tf.keras.Model 상속받아 생성하고자 하는 모델 클래스 구현\n",
        " - 모델의 init()함수에 레이어 정의하고, 레이어의 하이퍼파라미터 정의"
      ],
      "metadata": {
        "id": "hafy8Mig2uB2"
      }
    },
    {
      "cell_type": "code",
      "source": [
        "class MyModel(tf.keras.Model):\n",
        "  def __init__(self):\n",
        "    super(MyModel, self).__init__()\n",
        "    # 초기값 설정\n",
        "    self.flatten=tf.keras.layers.Flatten()\n",
        "    self.dense1=tf.keras.layers.Dense(256, activation='relu')\n",
        "    self.dense2=tf.keras.layers.Dense(64, activation='relu')\n",
        "    self.dense3=tf.keras.layers.Dense(10, activation='softmax')\n",
        "\n",
        "  # method overiding\n",
        "  # 훈련용 함수 정의\n",
        "  # x는 input\n",
        "  def call(self, x):\n",
        "    x=self.flatten(x)\n",
        "    x=self.dense1(x)\n",
        "    x=self.dense2(x)\n",
        "    x=self.dense3(x)\n",
        "    return x"
      ],
      "metadata": {
        "id": "1XjjdMW12q7W"
      },
      "execution_count": 23,
      "outputs": []
    },
    {
      "cell_type": "markdown",
      "source": [
        "- `call()` 함수 : fit() 메소드가 호출되어 훈련하는 경우 호출될 함수\n",
        " - 순전파 정의하고 함수형 API와 같은 방식으로 모든 레이어를 체인처럼 연결. 최종 출력 값 return"
      ],
      "metadata": {
        "id": "Ukf2YaRC24fe"
      }
    },
    {
      "cell_type": "code",
      "source": [
        "# 모델 생성\n",
        "mymodel=MyModel()\n",
        "\n",
        "# 모델의 이름 설정\n",
        "mymodel._name='subclass_model'\n",
        "\n",
        "# 모델 input 정의\n",
        "mymodel(tf.keras.layers.Input(shape=(28, 28)))\n",
        "\n",
        "# 모델 요약\n",
        "mymodel.summary()"
      ],
      "metadata": {
        "colab": {
          "base_uri": "https://localhost:8080/"
        },
        "id": "Sy4F0RkF21mS",
        "outputId": "f371d5f6-4294-45b1-b60c-66e8d2a89d43"
      },
      "execution_count": 24,
      "outputs": [
        {
          "output_type": "stream",
          "name": "stdout",
          "text": [
            "Model: \"subclass_model\"\n",
            "_________________________________________________________________\n",
            " Layer (type)                Output Shape              Param #   \n",
            "=================================================================\n",
            " flatten_3 (Flatten)         multiple                  0         \n",
            "                                                                 \n",
            " dense_15 (Dense)            multiple                  200960    \n",
            "                                                                 \n",
            " dense_16 (Dense)            multiple                  16448     \n",
            "                                                                 \n",
            " dense_17 (Dense)            multiple                  650       \n",
            "                                                                 \n",
            "=================================================================\n",
            "Total params: 218058 (851.79 KB)\n",
            "Trainable params: 218058 (851.79 KB)\n",
            "Non-trainable params: 0 (0.00 Byte)\n",
            "_________________________________________________________________\n"
          ]
        }
      ]
    },
    {
      "cell_type": "markdown",
      "source": [
        "- mymodel 변수에 바로 summary()로 요약 출력 불가\n",
        "- Input 레이어와 함께 shape 정의해줘야 모델 요약 확인 가능"
      ],
      "metadata": {
        "id": "CgRxKfTW3E5D"
      }
    },
    {
      "cell_type": "code",
      "source": [
        "# 컴파일\n",
        "mymodel.compile(optimizer='adam', loss='sparse_categorical_crossentropy', metrics=['accuracy'])\n",
        "\n",
        "# 훈련\n",
        "mymodel.fit(x_train, y_train, epochs=3)\n",
        "\n",
        "# 검증\n",
        "loss, acc=mymodel.evaluate(x_test, y_test, verbose=0)\n",
        "print(f'Subclassing Model] loss: {loss:.5f}, acc: {acc:.5f}')"
      ],
      "metadata": {
        "colab": {
          "base_uri": "https://localhost:8080/"
        },
        "id": "bZM0A4Sh3Cl-",
        "outputId": "d736e16e-51ef-41ca-b7f0-6b813f95c980"
      },
      "execution_count": 25,
      "outputs": [
        {
          "output_type": "stream",
          "name": "stdout",
          "text": [
            "Epoch 1/3\n",
            "1875/1875 [==============================] - 14s 7ms/step - loss: 0.2148 - accuracy: 0.9363\n",
            "Epoch 2/3\n",
            "1875/1875 [==============================] - 12s 6ms/step - loss: 0.0868 - accuracy: 0.9727\n",
            "Epoch 3/3\n",
            "1875/1875 [==============================] - 14s 8ms/step - loss: 0.0585 - accuracy: 0.9813\n",
            "Subclassing Model] loss: 0.07759, acc: 0.97670\n"
          ]
        }
      ]
    },
    {
      "cell_type": "markdown",
      "source": [
        "- Model Subclassing으로 생성된 모델도 동일하게 훈련, 검증 가능.\n",
        "- 모델을 생성하는 방식의 차이가 있을 뿐"
      ],
      "metadata": {
        "id": "lTWTzcOO3Mwy"
      }
    },
    {
      "cell_type": "markdown",
      "source": [
        "### 7-3 서브클래싱 모델 파라미터를 활용한 생성\n",
        "- Model Subclassing 생성의 장점 : 생성자 파라미터로 모델 내부 레이어의 하이퍼파라미터 지정할 수 있다\n",
        "\n"
      ],
      "metadata": {
        "id": "EmZNJ2kM3Uiu"
      }
    },
    {
      "cell_type": "markdown",
      "source": [
        "모델 생성자 파라미터 추가해 동적으로 레이어의 유닛 개수 초기화"
      ],
      "metadata": {
        "id": "E-3gzwQA3Y3W"
      }
    },
    {
      "cell_type": "code",
      "source": [
        "class MyModel(tf.keras.Model):\n",
        "\n",
        "  # 생성자 파라미터 추가\n",
        "  def __init__(self, units, num_classes):\n",
        "    super(MyModel, self).__init__()\n",
        "    # 초기값 설정\n",
        "    self.flatten=tf.keras.layers.Flatten()\n",
        "    self.dense1=tf.keras.layers.Dense(units, activation='relu')\n",
        "    self.dense2=tf.keras.layers.Dense(units/4, activation='relu')\n",
        "    self.dense3=tf.keras.layers.Dense(num_classes, activation='softmax')\n",
        "\n",
        "  # class overiding\n",
        "  # 훈련용 함수 정의\n",
        "  # x는 input\n",
        "  def call(self, x):\n",
        "    x=self.flatten(x)\n",
        "    x=self.dense1(x)\n",
        "    x=self.dense2(x)\n",
        "    x=self.dense3(x)\n",
        "    return x"
      ],
      "metadata": {
        "id": "vdkFKkhD3Jo8"
      },
      "execution_count": 26,
      "outputs": []
    },
    {
      "cell_type": "markdown",
      "source": [
        "기준이 되는 unit의 개수 입력받아 Dense 레이어의 유닛 개수 계산하여 설정"
      ],
      "metadata": {
        "id": "tuYC9SQi3dXD"
      }
    },
    {
      "cell_type": "code",
      "source": [
        "# 모델 생성\n",
        "mymodel=MyModel(256, 10)\n",
        "\n",
        "# 모델 input 정의\n",
        "mymodel(tf.keras.layers.Input(shape=(28, 28)))\n",
        "\n",
        "# 모델 요약\n",
        "mymodel.summary()"
      ],
      "metadata": {
        "colab": {
          "base_uri": "https://localhost:8080/"
        },
        "id": "8Q8k02zP3cIX",
        "outputId": "9b0d5331-a022-4f1a-8d86-dcce2ab7aa12"
      },
      "execution_count": 27,
      "outputs": [
        {
          "output_type": "stream",
          "name": "stdout",
          "text": [
            "Model: \"my_model_1\"\n",
            "_________________________________________________________________\n",
            " Layer (type)                Output Shape              Param #   \n",
            "=================================================================\n",
            " flatten_4 (Flatten)         multiple                  0         \n",
            "                                                                 \n",
            " dense_18 (Dense)            multiple                  200960    \n",
            "                                                                 \n",
            " dense_19 (Dense)            multiple                  16448     \n",
            "                                                                 \n",
            " dense_20 (Dense)            multiple                  650       \n",
            "                                                                 \n",
            "=================================================================\n",
            "Total params: 218058 (851.79 KB)\n",
            "Trainable params: 218058 (851.79 KB)\n",
            "Non-trainable params: 0 (0.00 Byte)\n",
            "_________________________________________________________________\n"
          ]
        }
      ]
    },
    {
      "cell_type": "markdown",
      "source": [
        "- summary 결과 확인시 동적으로 설정한 레이어의 파라미터 초기화되었음을 알 수 있음."
      ],
      "metadata": {
        "id": "Llxdp8z13h9f"
      }
    },
    {
      "cell_type": "code",
      "source": [
        "# 컴파일\n",
        "mymodel.compile(optimizer='adam', loss='sparse_categorical_crossentropy', metrics=['accuracy'])\n",
        "\n",
        "# 훈련\n",
        "mymodel.fit(x_train, y_train, epochs=3)\n",
        "\n",
        "# 검증\n",
        "loss, acc=mymodel.evaluate(x_test, y_test, verbose=0)\n",
        "print(f'Subclassing Model w.parameters] loss: {loss:.5f}, acc: {acc:.5f}')"
      ],
      "metadata": {
        "colab": {
          "base_uri": "https://localhost:8080/"
        },
        "id": "4iTzrWTK3fp6",
        "outputId": "27e6bdce-1c58-4dc4-993d-f2e610056aa6"
      },
      "execution_count": 28,
      "outputs": [
        {
          "output_type": "stream",
          "name": "stdout",
          "text": [
            "Epoch 1/3\n",
            "1875/1875 [==============================] - 20s 10ms/step - loss: 0.2100 - accuracy: 0.9380\n",
            "Epoch 2/3\n",
            "1875/1875 [==============================] - 11s 6ms/step - loss: 0.0869 - accuracy: 0.9733\n",
            "Epoch 3/3\n",
            "1875/1875 [==============================] - 11s 6ms/step - loss: 0.0611 - accuracy: 0.9807\n",
            "Subclassing Model w.parameters] loss: 0.07827, acc: 0.97470\n"
          ]
        }
      ]
    }
  ]
}